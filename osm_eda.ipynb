{
 "cells": [
  {
   "cell_type": "code",
   "execution_count": 2,
   "metadata": {},
   "outputs": [],
   "source": [
    "import requests\n",
    "import csv\n",
    "import time\n",
    "import pandas as pd\n",
    "from osm_script import osm_extractor_groups, fetch_osm_region"
   ]
  },
  {
   "cell_type": "code",
   "execution_count": 3,
   "metadata": {},
   "outputs": [],
   "source": [
    "#Several APIs available \n",
    "\n",
    "main_overpass_api = \"https://overpass-api.de/api/interpreter\"\n",
    "lz4_overpass_api='https://lz4.overpass-api.de/api/interpreter'\n",
    "osm_overpass_api='https://overpass.openstreetmap.ru/api/interpreter'\n",
    "\n",
    "BUNDES_GROUPS = [\n",
    "    [\"Baden-Württemberg\"],\n",
    "    [\"Bayern\"],\n",
    "    [\"Berlin\", \"Bremen\"],\n",
    "    [\"Brandenburg\"],\n",
    "    [\"Hamburg\"],\n",
    "    [\"Hessen\",\"Mecklenburg-Vorpommern\",\"Rheinland-Pfalz\"],\n",
    "    [\"Niedersachsen\"],\n",
    "    [\"Nordrhein-Westfalen\"],\n",
    "    [\"Saarland\",\"Sachsen\",\"Sachsen-Anhalt\", \"Schleswig-Holstein\",\"Thüringen\"]\n",
    "]"
   ]
  },
  {
   "cell_type": "code",
   "execution_count": 4,
   "metadata": {},
   "outputs": [],
   "source": [
    "df_raw=osm_extractor_groups(BUNDES_GROUPS)"
   ]
  },
  {
   "cell_type": "code",
   "execution_count": 6,
   "metadata": {},
   "outputs": [
    {
     "data": {
      "text/plain": [
       "4604"
      ]
     },
     "execution_count": 6,
     "metadata": {},
     "output_type": "execute_result"
    }
   ],
   "source": [
    "len(df_raw)"
   ]
  },
  {
   "cell_type": "code",
   "execution_count": 16,
   "metadata": {},
   "outputs": [],
   "source": [
    "df_raw = df_raw.replace(r'^\\s*$', pd.NA, regex=True)"
   ]
  },
  {
   "cell_type": "code",
   "execution_count": 17,
   "metadata": {},
   "outputs": [
    {
     "data": {
      "text/html": [
       "<div>\n",
       "<style scoped>\n",
       "    .dataframe tbody tr th:only-of-type {\n",
       "        vertical-align: middle;\n",
       "    }\n",
       "\n",
       "    .dataframe tbody tr th {\n",
       "        vertical-align: top;\n",
       "    }\n",
       "\n",
       "    .dataframe thead th {\n",
       "        text-align: right;\n",
       "    }\n",
       "</style>\n",
       "<table border=\"1\" class=\"dataframe\">\n",
       "  <thead>\n",
       "    <tr style=\"text-align: right;\">\n",
       "      <th></th>\n",
       "      <th>osm_id</th>\n",
       "      <th>region</th>\n",
       "      <th>type</th>\n",
       "      <th>name</th>\n",
       "      <th>street</th>\n",
       "      <th>housenumber</th>\n",
       "      <th>postcode</th>\n",
       "      <th>city</th>\n",
       "      <th>lat</th>\n",
       "      <th>lon</th>\n",
       "      <th>phone</th>\n",
       "      <th>email</th>\n",
       "      <th>website</th>\n",
       "      <th>amenity</th>\n",
       "    </tr>\n",
       "  </thead>\n",
       "  <tbody>\n",
       "    <tr>\n",
       "      <th>4353</th>\n",
       "      <td>8440445795</td>\n",
       "      <td>Thüringen</td>\n",
       "      <td>node</td>\n",
       "      <td>Bad Liebenstein, AWO Pflegeheim</td>\n",
       "      <td>&lt;NA&gt;</td>\n",
       "      <td>&lt;NA&gt;</td>\n",
       "      <td>&lt;NA&gt;</td>\n",
       "      <td>&lt;NA&gt;</td>\n",
       "      <td>50.812898</td>\n",
       "      <td>10.343869</td>\n",
       "      <td>&lt;NA&gt;</td>\n",
       "      <td>&lt;NA&gt;</td>\n",
       "      <td>&lt;NA&gt;</td>\n",
       "      <td>&lt;NA&gt;</td>\n",
       "    </tr>\n",
       "    <tr>\n",
       "      <th>2355</th>\n",
       "      <td>477802228</td>\n",
       "      <td>Nordrhein-Westfalen</td>\n",
       "      <td>node</td>\n",
       "      <td>&lt;NA&gt;</td>\n",
       "      <td>&lt;NA&gt;</td>\n",
       "      <td>&lt;NA&gt;</td>\n",
       "      <td>&lt;NA&gt;</td>\n",
       "      <td>&lt;NA&gt;</td>\n",
       "      <td>50.543300</td>\n",
       "      <td>6.902158</td>\n",
       "      <td>&lt;NA&gt;</td>\n",
       "      <td>&lt;NA&gt;</td>\n",
       "      <td>&lt;NA&gt;</td>\n",
       "      <td>recycling</td>\n",
       "    </tr>\n",
       "    <tr>\n",
       "      <th>1819</th>\n",
       "      <td>1323593168</td>\n",
       "      <td>Rheinland-Pfalz</td>\n",
       "      <td>way</td>\n",
       "      <td>AWO</td>\n",
       "      <td>&lt;NA&gt;</td>\n",
       "      <td>&lt;NA&gt;</td>\n",
       "      <td>&lt;NA&gt;</td>\n",
       "      <td>&lt;NA&gt;</td>\n",
       "      <td>49.508546</td>\n",
       "      <td>7.352684</td>\n",
       "      <td>&lt;NA&gt;</td>\n",
       "      <td>&lt;NA&gt;</td>\n",
       "      <td>&lt;NA&gt;</td>\n",
       "      <td>parking</td>\n",
       "    </tr>\n",
       "    <tr>\n",
       "      <th>2874</th>\n",
       "      <td>90578336</td>\n",
       "      <td>Nordrhein-Westfalen</td>\n",
       "      <td>way</td>\n",
       "      <td>KaWo2 Haus 3</td>\n",
       "      <td>Kastanienweg</td>\n",
       "      <td>31</td>\n",
       "      <td>52074</td>\n",
       "      <td>Aachen</td>\n",
       "      <td>50.784413</td>\n",
       "      <td>6.052369</td>\n",
       "      <td>&lt;NA&gt;</td>\n",
       "      <td>&lt;NA&gt;</td>\n",
       "      <td>&lt;NA&gt;</td>\n",
       "      <td>&lt;NA&gt;</td>\n",
       "    </tr>\n",
       "    <tr>\n",
       "      <th>2897</th>\n",
       "      <td>110019764</td>\n",
       "      <td>Nordrhein-Westfalen</td>\n",
       "      <td>way</td>\n",
       "      <td>Arbeiterwohlfahrt - Altenwohnungen</td>\n",
       "      <td>Dortmunder Straße</td>\n",
       "      <td>144a</td>\n",
       "      <td>45731</td>\n",
       "      <td>Waltrop</td>\n",
       "      <td>51.623091</td>\n",
       "      <td>7.415020</td>\n",
       "      <td>&lt;NA&gt;</td>\n",
       "      <td>&lt;NA&gt;</td>\n",
       "      <td>&lt;NA&gt;</td>\n",
       "      <td>&lt;NA&gt;</td>\n",
       "    </tr>\n",
       "    <tr>\n",
       "      <th>4300</th>\n",
       "      <td>7604310</td>\n",
       "      <td>Schleswig-Holstein</td>\n",
       "      <td>relation</td>\n",
       "      <td>Wandern mit Herz</td>\n",
       "      <td>&lt;NA&gt;</td>\n",
       "      <td>&lt;NA&gt;</td>\n",
       "      <td>&lt;NA&gt;</td>\n",
       "      <td>&lt;NA&gt;</td>\n",
       "      <td>54.627840</td>\n",
       "      <td>9.774961</td>\n",
       "      <td>&lt;NA&gt;</td>\n",
       "      <td>&lt;NA&gt;</td>\n",
       "      <td>&lt;NA&gt;</td>\n",
       "      <td>&lt;NA&gt;</td>\n",
       "    </tr>\n",
       "    <tr>\n",
       "      <th>3766</th>\n",
       "      <td>11559820690</td>\n",
       "      <td>Sachsen</td>\n",
       "      <td>node</td>\n",
       "      <td>AWO Sozialstation</td>\n",
       "      <td>Leipziger Straße</td>\n",
       "      <td>51</td>\n",
       "      <td>&lt;NA&gt;</td>\n",
       "      <td>&lt;NA&gt;</td>\n",
       "      <td>51.358563</td>\n",
       "      <td>12.295001</td>\n",
       "      <td>+49 341 4511434</td>\n",
       "      <td>&lt;NA&gt;</td>\n",
       "      <td>&lt;NA&gt;</td>\n",
       "      <td>community_centre</td>\n",
       "    </tr>\n",
       "    <tr>\n",
       "      <th>3489</th>\n",
       "      <td>1225214236</td>\n",
       "      <td>Nordrhein-Westfalen</td>\n",
       "      <td>way</td>\n",
       "      <td>Kita Drachennest</td>\n",
       "      <td>&lt;NA&gt;</td>\n",
       "      <td>&lt;NA&gt;</td>\n",
       "      <td>&lt;NA&gt;</td>\n",
       "      <td>&lt;NA&gt;</td>\n",
       "      <td>51.129508</td>\n",
       "      <td>6.448759</td>\n",
       "      <td>&lt;NA&gt;</td>\n",
       "      <td>&lt;NA&gt;</td>\n",
       "      <td>https://awo.mg/gut-heranwachsen/awo-kitas/</td>\n",
       "      <td>kindergarten</td>\n",
       "    </tr>\n",
       "    <tr>\n",
       "      <th>2692</th>\n",
       "      <td>11103478595</td>\n",
       "      <td>Nordrhein-Westfalen</td>\n",
       "      <td>node</td>\n",
       "      <td>Kindertagesstätte Deutzer Wiese</td>\n",
       "      <td>Gummersbacher Straße</td>\n",
       "      <td>31a</td>\n",
       "      <td>50679</td>\n",
       "      <td>Köln</td>\n",
       "      <td>50.938850</td>\n",
       "      <td>6.987140</td>\n",
       "      <td>&lt;NA&gt;</td>\n",
       "      <td>deutzer-wiese@awo-koeln.de</td>\n",
       "      <td>https://awo-koeln.de/kinder-jugend-familie/kin...</td>\n",
       "      <td>kindergarten</td>\n",
       "    </tr>\n",
       "    <tr>\n",
       "      <th>2816</th>\n",
       "      <td>52708982</td>\n",
       "      <td>Nordrhein-Westfalen</td>\n",
       "      <td>way</td>\n",
       "      <td>AWO</td>\n",
       "      <td>Kleybredde</td>\n",
       "      <td>32</td>\n",
       "      <td>44149</td>\n",
       "      <td>Dortmund</td>\n",
       "      <td>51.487694</td>\n",
       "      <td>7.373917</td>\n",
       "      <td>&lt;NA&gt;</td>\n",
       "      <td>&lt;NA&gt;</td>\n",
       "      <td>&lt;NA&gt;</td>\n",
       "      <td>&lt;NA&gt;</td>\n",
       "    </tr>\n",
       "  </tbody>\n",
       "</table>\n",
       "</div>"
      ],
      "text/plain": [
       "           osm_id               region      type  \\\n",
       "4353   8440445795            Thüringen      node   \n",
       "2355    477802228  Nordrhein-Westfalen      node   \n",
       "1819   1323593168      Rheinland-Pfalz       way   \n",
       "2874     90578336  Nordrhein-Westfalen       way   \n",
       "2897    110019764  Nordrhein-Westfalen       way   \n",
       "4300      7604310   Schleswig-Holstein  relation   \n",
       "3766  11559820690              Sachsen      node   \n",
       "3489   1225214236  Nordrhein-Westfalen       way   \n",
       "2692  11103478595  Nordrhein-Westfalen      node   \n",
       "2816     52708982  Nordrhein-Westfalen       way   \n",
       "\n",
       "                                    name                street housenumber  \\\n",
       "4353     Bad Liebenstein, AWO Pflegeheim                  <NA>        <NA>   \n",
       "2355                                <NA>                  <NA>        <NA>   \n",
       "1819                                 AWO                  <NA>        <NA>   \n",
       "2874                        KaWo2 Haus 3          Kastanienweg          31   \n",
       "2897  Arbeiterwohlfahrt - Altenwohnungen     Dortmunder Straße        144a   \n",
       "4300                    Wandern mit Herz                  <NA>        <NA>   \n",
       "3766                   AWO Sozialstation      Leipziger Straße          51   \n",
       "3489                    Kita Drachennest                  <NA>        <NA>   \n",
       "2692     Kindertagesstätte Deutzer Wiese  Gummersbacher Straße         31a   \n",
       "2816                                 AWO            Kleybredde          32   \n",
       "\n",
       "     postcode      city        lat        lon            phone  \\\n",
       "4353     <NA>      <NA>  50.812898  10.343869             <NA>   \n",
       "2355     <NA>      <NA>  50.543300   6.902158             <NA>   \n",
       "1819     <NA>      <NA>  49.508546   7.352684             <NA>   \n",
       "2874    52074    Aachen  50.784413   6.052369             <NA>   \n",
       "2897    45731   Waltrop  51.623091   7.415020             <NA>   \n",
       "4300     <NA>      <NA>  54.627840   9.774961             <NA>   \n",
       "3766     <NA>      <NA>  51.358563  12.295001  +49 341 4511434   \n",
       "3489     <NA>      <NA>  51.129508   6.448759             <NA>   \n",
       "2692    50679      Köln  50.938850   6.987140             <NA>   \n",
       "2816    44149  Dortmund  51.487694   7.373917             <NA>   \n",
       "\n",
       "                           email  \\\n",
       "4353                        <NA>   \n",
       "2355                        <NA>   \n",
       "1819                        <NA>   \n",
       "2874                        <NA>   \n",
       "2897                        <NA>   \n",
       "4300                        <NA>   \n",
       "3766                        <NA>   \n",
       "3489                        <NA>   \n",
       "2692  deutzer-wiese@awo-koeln.de   \n",
       "2816                        <NA>   \n",
       "\n",
       "                                                website           amenity  \n",
       "4353                                               <NA>              <NA>  \n",
       "2355                                               <NA>         recycling  \n",
       "1819                                               <NA>           parking  \n",
       "2874                                               <NA>              <NA>  \n",
       "2897                                               <NA>              <NA>  \n",
       "4300                                               <NA>              <NA>  \n",
       "3766                                               <NA>  community_centre  \n",
       "3489         https://awo.mg/gut-heranwachsen/awo-kitas/      kindergarten  \n",
       "2692  https://awo-koeln.de/kinder-jugend-familie/kin...      kindergarten  \n",
       "2816                                               <NA>              <NA>  "
      ]
     },
     "execution_count": 17,
     "metadata": {},
     "output_type": "execute_result"
    }
   ],
   "source": [
    "df_raw.sample(10) # raw results"
   ]
  },
  {
   "cell_type": "code",
   "execution_count": 18,
   "metadata": {},
   "outputs": [
    {
     "data": {
      "text/plain": [
       "region\n",
       "Nordrhein-Westfalen       1236\n",
       "Bayern                     679\n",
       "Niedersachsen              513\n",
       "Thüringen                  300\n",
       "Baden-Württemberg          299\n",
       "Sachsen                    281\n",
       "Hessen                     237\n",
       "Schleswig-Holstein         190\n",
       "Brandenburg                163\n",
       "Mecklenburg-Vorpommern     156\n",
       "Sachsen-Anhalt             142\n",
       "Saarland                   121\n",
       "Rheinland-Pfalz             94\n",
       "Berlin                      84\n",
       "Bremen                      69\n",
       "Hamburg                     40\n",
       "Name: count, dtype: int64"
      ]
     },
     "execution_count": 18,
     "metadata": {},
     "output_type": "execute_result"
    }
   ],
   "source": [
    "df_raw.region.value_counts()"
   ]
  },
  {
   "cell_type": "code",
   "execution_count": 19,
   "metadata": {},
   "outputs": [
    {
     "data": {
      "text/plain": [
       "osm_id            0\n",
       "region            0\n",
       "type              0\n",
       "name            413\n",
       "street         1705\n",
       "housenumber    1740\n",
       "postcode       1825\n",
       "city           1842\n",
       "lat               0\n",
       "lon               0\n",
       "phone          3138\n",
       "email          3827\n",
       "website        2846\n",
       "amenity        1308\n",
       "dtype: int64"
      ]
     },
     "execution_count": 19,
     "metadata": {},
     "output_type": "execute_result"
    }
   ],
   "source": [
    "df_raw.isnull().sum()"
   ]
  },
  {
   "cell_type": "markdown",
   "metadata": {},
   "source": [
    "Next: \n",
    "    - removing findings which are not AWO facilities \n",
    "    - comparing with current Einrichtungsdatenbank \n",
    "    - comaring with domains .xlsx \n",
    "    - ..."
   ]
  },
  {
   "cell_type": "code",
   "execution_count": null,
   "metadata": {},
   "outputs": [],
   "source": [
    "pattern_upper = r\"\\bAWO\\b\" # remove false positives WIP\n",
    "has_word = df['name'].str.contains(pattern_word, case=False, na=False)\n",
    "#has_any = big['name'].str.contains(\"awo\", case=False, na=False)\n",
    "mask = has_word|(~has_any)\n",
    "df_filtered = df.loc[has_word].reset_index(drop=True)"
   ]
  },
  {
   "cell_type": "code",
   "execution_count": 22,
   "metadata": {},
   "outputs": [],
   "source": [
    "name_datetime = time.strftime(\"%Y%m%d-%H%M%S\")\n",
    "df_raw.to_csv(f\"awo_{name_datetime}_osm_raw.csv\", index=False, encoding='utf-8')"
   ]
  },
  {
   "cell_type": "code",
   "execution_count": 20,
   "metadata": {},
   "outputs": [
    {
     "ename": "KeyError",
     "evalue": "'None of [Index([                                         \\'AWO-Kindertagesstätte Wiesenzwerg\\',\\n                                                                              \\'AWO\\',\\n                                                                   \\'Bawo\\'s Kitchen\\',\\n                                                                      \\'AWO-Gebäude\\',\\n       \\'AWO Emma-Fackler-Schulkindergarten für körper- und sprachbehinderte Kinder\\',\\n                          \\'AWO Kindertagesstätte \"les explorateurs -die Entdecker\"\\',\\n                                                          \\'AWO Walderholungsstätte\\',\\n                                                              \\'Kawohs Fischerhütte\\',\\n                                                     \\'AWO Kita Am Weinbrennerplatz\\',\\n                                                                           \\'ascawo\\',\\n       ...\\n                                                             \\'Marker Wiesenwichtel\\',\\n                                                                               <NA>,\\n                                        \\'AWO SANO Ferienzentrum Oberhof/ Rennsteig\\',\\n                                                          \\'Kindertagesstätte Bummi\\',\\n                                          \\'Integrative Kindertagesstätte Pfiffikus\\',\\n                                                    \\'Seniorenzentrum \"Am Paradies\"\\',\\n                                                  \\'Bad Liebenstein, AWO Pflegeheim\\',\\n                                                        \\'Senioren-Wohngemeinschaft\\',\\n                                                          \\'Kindergarten Wirbelwind\\',\\n                                                  \\'Knirpsenakademie am Zwergenberg\\'],\\n      dtype=\\'object\\', length=4604)] are in the [columns]'",
     "output_type": "error",
     "traceback": [
      "\u001b[31m---------------------------------------------------------------------------\u001b[39m",
      "\u001b[31mKeyError\u001b[39m                                  Traceback (most recent call last)",
      "\u001b[36mCell\u001b[39m\u001b[36m \u001b[39m\u001b[32mIn[20]\u001b[39m\u001b[32m, line 1\u001b[39m\n\u001b[32m----> \u001b[39m\u001b[32m1\u001b[39m jawoll = \u001b[43mdf_raw\u001b[49m\u001b[43m[\u001b[49m\u001b[43mdf_raw\u001b[49m\u001b[43m[\u001b[49m\u001b[33;43m'\u001b[39;49m\u001b[33;43mname\u001b[39;49m\u001b[33;43m'\u001b[39;49m\u001b[43m]\u001b[49m\u001b[43m]\u001b[49m.str.contains(\u001b[33m\"\u001b[39m\u001b[33mjawoll\u001b[39m\u001b[33m\"\u001b[39m)\n\u001b[32m      2\u001b[39m jawoll.shape\n",
      "\u001b[36mFile \u001b[39m\u001b[32m~/anaconda3/envs/immo/lib/python3.13/site-packages/pandas/core/frame.py:4108\u001b[39m, in \u001b[36mDataFrame.__getitem__\u001b[39m\u001b[34m(self, key)\u001b[39m\n\u001b[32m   4106\u001b[39m     \u001b[38;5;28;01mif\u001b[39;00m is_iterator(key):\n\u001b[32m   4107\u001b[39m         key = \u001b[38;5;28mlist\u001b[39m(key)\n\u001b[32m-> \u001b[39m\u001b[32m4108\u001b[39m     indexer = \u001b[38;5;28;43mself\u001b[39;49m\u001b[43m.\u001b[49m\u001b[43mcolumns\u001b[49m\u001b[43m.\u001b[49m\u001b[43m_get_indexer_strict\u001b[49m\u001b[43m(\u001b[49m\u001b[43mkey\u001b[49m\u001b[43m,\u001b[49m\u001b[43m \u001b[49m\u001b[33;43m\"\u001b[39;49m\u001b[33;43mcolumns\u001b[39;49m\u001b[33;43m\"\u001b[39;49m\u001b[43m)\u001b[49m[\u001b[32m1\u001b[39m]\n\u001b[32m   4110\u001b[39m \u001b[38;5;66;03m# take() does not accept boolean indexers\u001b[39;00m\n\u001b[32m   4111\u001b[39m \u001b[38;5;28;01mif\u001b[39;00m \u001b[38;5;28mgetattr\u001b[39m(indexer, \u001b[33m\"\u001b[39m\u001b[33mdtype\u001b[39m\u001b[33m\"\u001b[39m, \u001b[38;5;28;01mNone\u001b[39;00m) == \u001b[38;5;28mbool\u001b[39m:\n",
      "\u001b[36mFile \u001b[39m\u001b[32m~/anaconda3/envs/immo/lib/python3.13/site-packages/pandas/core/indexes/base.py:6200\u001b[39m, in \u001b[36mIndex._get_indexer_strict\u001b[39m\u001b[34m(self, key, axis_name)\u001b[39m\n\u001b[32m   6197\u001b[39m \u001b[38;5;28;01melse\u001b[39;00m:\n\u001b[32m   6198\u001b[39m     keyarr, indexer, new_indexer = \u001b[38;5;28mself\u001b[39m._reindex_non_unique(keyarr)\n\u001b[32m-> \u001b[39m\u001b[32m6200\u001b[39m \u001b[38;5;28;43mself\u001b[39;49m\u001b[43m.\u001b[49m\u001b[43m_raise_if_missing\u001b[49m\u001b[43m(\u001b[49m\u001b[43mkeyarr\u001b[49m\u001b[43m,\u001b[49m\u001b[43m \u001b[49m\u001b[43mindexer\u001b[49m\u001b[43m,\u001b[49m\u001b[43m \u001b[49m\u001b[43maxis_name\u001b[49m\u001b[43m)\u001b[49m\n\u001b[32m   6202\u001b[39m keyarr = \u001b[38;5;28mself\u001b[39m.take(indexer)\n\u001b[32m   6203\u001b[39m \u001b[38;5;28;01mif\u001b[39;00m \u001b[38;5;28misinstance\u001b[39m(key, Index):\n\u001b[32m   6204\u001b[39m     \u001b[38;5;66;03m# GH 42790 - Preserve name from an Index\u001b[39;00m\n",
      "\u001b[36mFile \u001b[39m\u001b[32m~/anaconda3/envs/immo/lib/python3.13/site-packages/pandas/core/indexes/base.py:6249\u001b[39m, in \u001b[36mIndex._raise_if_missing\u001b[39m\u001b[34m(self, key, indexer, axis_name)\u001b[39m\n\u001b[32m   6247\u001b[39m \u001b[38;5;28;01mif\u001b[39;00m nmissing:\n\u001b[32m   6248\u001b[39m     \u001b[38;5;28;01mif\u001b[39;00m nmissing == \u001b[38;5;28mlen\u001b[39m(indexer):\n\u001b[32m-> \u001b[39m\u001b[32m6249\u001b[39m         \u001b[38;5;28;01mraise\u001b[39;00m \u001b[38;5;167;01mKeyError\u001b[39;00m(\u001b[33mf\u001b[39m\u001b[33m\"\u001b[39m\u001b[33mNone of [\u001b[39m\u001b[38;5;132;01m{\u001b[39;00mkey\u001b[38;5;132;01m}\u001b[39;00m\u001b[33m] are in the [\u001b[39m\u001b[38;5;132;01m{\u001b[39;00maxis_name\u001b[38;5;132;01m}\u001b[39;00m\u001b[33m]\u001b[39m\u001b[33m\"\u001b[39m)\n\u001b[32m   6251\u001b[39m     not_found = \u001b[38;5;28mlist\u001b[39m(ensure_index(key)[missing_mask.nonzero()[\u001b[32m0\u001b[39m]].unique())\n\u001b[32m   6252\u001b[39m     \u001b[38;5;28;01mraise\u001b[39;00m \u001b[38;5;167;01mKeyError\u001b[39;00m(\u001b[33mf\u001b[39m\u001b[33m\"\u001b[39m\u001b[38;5;132;01m{\u001b[39;00mnot_found\u001b[38;5;132;01m}\u001b[39;00m\u001b[33m not in index\u001b[39m\u001b[33m\"\u001b[39m)\n",
      "\u001b[31mKeyError\u001b[39m: 'None of [Index([                                         \\'AWO-Kindertagesstätte Wiesenzwerg\\',\\n                                                                              \\'AWO\\',\\n                                                                   \\'Bawo\\'s Kitchen\\',\\n                                                                      \\'AWO-Gebäude\\',\\n       \\'AWO Emma-Fackler-Schulkindergarten für körper- und sprachbehinderte Kinder\\',\\n                          \\'AWO Kindertagesstätte \"les explorateurs -die Entdecker\"\\',\\n                                                          \\'AWO Walderholungsstätte\\',\\n                                                              \\'Kawohs Fischerhütte\\',\\n                                                     \\'AWO Kita Am Weinbrennerplatz\\',\\n                                                                           \\'ascawo\\',\\n       ...\\n                                                             \\'Marker Wiesenwichtel\\',\\n                                                                               <NA>,\\n                                        \\'AWO SANO Ferienzentrum Oberhof/ Rennsteig\\',\\n                                                          \\'Kindertagesstätte Bummi\\',\\n                                          \\'Integrative Kindertagesstätte Pfiffikus\\',\\n                                                    \\'Seniorenzentrum \"Am Paradies\"\\',\\n                                                  \\'Bad Liebenstein, AWO Pflegeheim\\',\\n                                                        \\'Senioren-Wohngemeinschaft\\',\\n                                                          \\'Kindergarten Wirbelwind\\',\\n                                                  \\'Knirpsenakademie am Zwergenberg\\'],\\n      dtype=\\'object\\', length=4604)] are in the [columns]'"
     ]
    }
   ],
   "source": [
    "jawoll = df_raw[df_raw['name']].str.contains(\"jawoll\")\n",
    "jawoll.shape"
   ]
  },
  {
   "cell_type": "code",
   "execution_count": null,
   "metadata": {},
   "outputs": [],
   "source": [
    "#domains1=domains.assign(InOsm=domains.domain.isin(df.website).astype(int))"
   ]
  },
  {
   "cell_type": "code",
   "execution_count": null,
   "metadata": {},
   "outputs": [],
   "source": []
  }
 ],
 "metadata": {
  "kernelspec": {
   "display_name": "immo",
   "language": "python",
   "name": "python3"
  },
  "language_info": {
   "codemirror_mode": {
    "name": "ipython",
    "version": 3
   },
   "file_extension": ".py",
   "mimetype": "text/x-python",
   "name": "python",
   "nbconvert_exporter": "python",
   "pygments_lexer": "ipython3",
   "version": "3.13.2"
  }
 },
 "nbformat": 4,
 "nbformat_minor": 2
}
