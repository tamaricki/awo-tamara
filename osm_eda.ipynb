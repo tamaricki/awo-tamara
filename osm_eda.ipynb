{
 "cells": [
  {
   "cell_type": "code",
   "execution_count": 42,
   "metadata": {},
   "outputs": [],
   "source": [
    "import requests\n",
    "import csv\n",
    "import time\n",
    "import pandas as pd\n",
    "from osm_script import osm_extractor_groups, fetch_osm_region\n",
    "from reverse_geocode import geocode_lat_lon\n",
    "from geopy.geocoders import Nominatim\n",
    "from geopy.extra.rate_limiter import RateLimiter\n",
    "import re "
   ]
  },
  {
   "cell_type": "code",
   "execution_count": 3,
   "metadata": {},
   "outputs": [],
   "source": [
    "#Several APIs available \n",
    "\n",
    "main_overpass_api = \"https://overpass-api.de/api/interpreter\"\n",
    "lz4_overpass_api='https://lz4.overpass-api.de/api/interpreter'\n",
    "osm_overpass_api='https://overpass.openstreetmap.ru/api/interpreter'\n",
    "\n",
    "BUNDES_GROUPS = [\n",
    "    [\"Baden-Württemberg\"],\n",
    "    [\"Bayern\"],\n",
    "    [\"Berlin\", \"Bremen\"],\n",
    "    [\"Brandenburg\"],\n",
    "    [\"Hamburg\"],\n",
    "    [\"Hessen\",\"Mecklenburg-Vorpommern\",\"Rheinland-Pfalz\"],\n",
    "    [\"Niedersachsen\"],\n",
    "    [\"Nordrhein-Westfalen\"],\n",
    "    [\"Saarland\",\"Sachsen\",\"Sachsen-Anhalt\", \"Schleswig-Holstein\",\"Thüringen\"]\n",
    "]"
   ]
  },
  {
   "cell_type": "code",
   "execution_count": null,
   "metadata": {},
   "outputs": [],
   "source": [
    "df_raw=osm_extractor_groups(BUNDES_GROUPS) #for first time getting the data\n",
    "\n"
   ]
  },
  {
   "cell_type": "code",
   "execution_count": 2,
   "metadata": {},
   "outputs": [
    {
     "data": {
      "text/plain": [
       "(4604, 14)"
      ]
     },
     "execution_count": 2,
     "metadata": {},
     "output_type": "execute_result"
    }
   ],
   "source": [
    "\n",
    "#for later import the latest file \n",
    "df_raw = pd.read_csv(\"awo_20250926-135243_osm_raw.csv\")\n",
    "df_raw.shape"
   ]
  },
  {
   "cell_type": "code",
   "execution_count": 23,
   "metadata": {},
   "outputs": [
    {
     "data": {
      "text/html": [
       "<div>\n",
       "<style scoped>\n",
       "    .dataframe tbody tr th:only-of-type {\n",
       "        vertical-align: middle;\n",
       "    }\n",
       "\n",
       "    .dataframe tbody tr th {\n",
       "        vertical-align: top;\n",
       "    }\n",
       "\n",
       "    .dataframe thead th {\n",
       "        text-align: right;\n",
       "    }\n",
       "</style>\n",
       "<table border=\"1\" class=\"dataframe\">\n",
       "  <thead>\n",
       "    <tr style=\"text-align: right;\">\n",
       "      <th></th>\n",
       "      <th>osm_id</th>\n",
       "      <th>region</th>\n",
       "      <th>type</th>\n",
       "      <th>name</th>\n",
       "      <th>street</th>\n",
       "      <th>housenumber</th>\n",
       "      <th>postcode</th>\n",
       "      <th>city</th>\n",
       "      <th>lat</th>\n",
       "      <th>lon</th>\n",
       "      <th>phone</th>\n",
       "      <th>email</th>\n",
       "      <th>website</th>\n",
       "      <th>amenity</th>\n",
       "    </tr>\n",
       "  </thead>\n",
       "  <tbody>\n",
       "    <tr>\n",
       "      <th>1639</th>\n",
       "      <td>96453980</td>\n",
       "      <td>Mecklenburg-Vorpommern</td>\n",
       "      <td>way</td>\n",
       "      <td>Die Kleinen Schulzen</td>\n",
       "      <td>Schulzenweg</td>\n",
       "      <td>10</td>\n",
       "      <td>19061.0</td>\n",
       "      <td>Schwerin</td>\n",
       "      <td>53.609547</td>\n",
       "      <td>11.386542</td>\n",
       "      <td>NaN</td>\n",
       "      <td>NaN</td>\n",
       "      <td>https://www.awo-schwerin.de/fachbereiche/kinde...</td>\n",
       "      <td>kindergarten</td>\n",
       "    </tr>\n",
       "    <tr>\n",
       "      <th>3488</th>\n",
       "      <td>1225190712</td>\n",
       "      <td>Nordrhein-Westfalen</td>\n",
       "      <td>way</td>\n",
       "      <td>AWO KiTa im Monfortsquartier</td>\n",
       "      <td>Im Winkel</td>\n",
       "      <td></td>\n",
       "      <td>41238</td>\n",
       "      <td>Mönchengladbach</td>\n",
       "      <td>51.181071</td>\n",
       "      <td>6.450341</td>\n",
       "      <td>NaN</td>\n",
       "      <td>NaN</td>\n",
       "      <td>NaN</td>\n",
       "      <td>kindergarten</td>\n",
       "    </tr>\n",
       "    <tr>\n",
       "      <th>2040</th>\n",
       "      <td>82265814</td>\n",
       "      <td>Niedersachsen</td>\n",
       "      <td>way</td>\n",
       "      <td>Wohnanlage am Mühlenhof</td>\n",
       "      <td>Im Kühlen Grunde</td>\n",
       "      <td>5</td>\n",
       "      <td>26180</td>\n",
       "      <td>Rastede</td>\n",
       "      <td>53.247303</td>\n",
       "      <td>8.211957</td>\n",
       "      <td>+49 4402 929190</td>\n",
       "      <td>NaN</td>\n",
       "      <td>https://www.wohnanlage-rastede.de</td>\n",
       "      <td>social_facility</td>\n",
       "    </tr>\n",
       "    <tr>\n",
       "      <th>1502</th>\n",
       "      <td>338182815</td>\n",
       "      <td>Hessen</td>\n",
       "      <td>way</td>\n",
       "      <td>AWOPLAN</td>\n",
       "      <td>Hersfelder Straße</td>\n",
       "      <td>39</td>\n",
       "      <td>36320.0</td>\n",
       "      <td>Kirtorf</td>\n",
       "      <td>50.760342</td>\n",
       "      <td>9.126503</td>\n",
       "      <td>+49 6635 918290</td>\n",
       "      <td>NaN</td>\n",
       "      <td>NaN</td>\n",
       "      <td>NaN</td>\n",
       "    </tr>\n",
       "    <tr>\n",
       "      <th>626</th>\n",
       "      <td>82923094</td>\n",
       "      <td>Bayern</td>\n",
       "      <td>way</td>\n",
       "      <td>AWO-Kinderhaus Meilenstein</td>\n",
       "      <td>Goethestraße</td>\n",
       "      <td>50</td>\n",
       "      <td>84032.0</td>\n",
       "      <td>Landshut</td>\n",
       "      <td>48.557548</td>\n",
       "      <td>12.128506</td>\n",
       "      <td>NaN</td>\n",
       "      <td>NaN</td>\n",
       "      <td>NaN</td>\n",
       "      <td>kindergarten</td>\n",
       "    </tr>\n",
       "    <tr>\n",
       "      <th>2775</th>\n",
       "      <td>26659361</td>\n",
       "      <td>Nordrhein-Westfalen</td>\n",
       "      <td>way</td>\n",
       "      <td>AWO Seniorenzentrum Witten</td>\n",
       "      <td>Egge</td>\n",
       "      <td>73,75,77</td>\n",
       "      <td>58453.0</td>\n",
       "      <td>Witten</td>\n",
       "      <td>51.435158</td>\n",
       "      <td>7.353515</td>\n",
       "      <td>+49 2302 910450</td>\n",
       "      <td>sz-witten@awo-ww.de</td>\n",
       "      <td>https://sz-witten.awo-ww.de/</td>\n",
       "      <td>social_facility</td>\n",
       "    </tr>\n",
       "    <tr>\n",
       "      <th>2388</th>\n",
       "      <td>1154056361</td>\n",
       "      <td>Nordrhein-Westfalen</td>\n",
       "      <td>node</td>\n",
       "      <td>AWO Haus Bittermark</td>\n",
       "      <td>Sichelstraße</td>\n",
       "      <td></td>\n",
       "      <td>44229</td>\n",
       "      <td>Dortmund</td>\n",
       "      <td>51.445900</td>\n",
       "      <td>7.467408</td>\n",
       "      <td>NaN</td>\n",
       "      <td>NaN</td>\n",
       "      <td>NaN</td>\n",
       "      <td>NaN</td>\n",
       "    </tr>\n",
       "    <tr>\n",
       "      <th>3509</th>\n",
       "      <td>1291691665</td>\n",
       "      <td>Nordrhein-Westfalen</td>\n",
       "      <td>way</td>\n",
       "      <td>Kindertagesstätte Sterntaler</td>\n",
       "      <td>Epprather Straße</td>\n",
       "      <td></td>\n",
       "      <td>50181</td>\n",
       "      <td>Bedburg</td>\n",
       "      <td>51.007686</td>\n",
       "      <td>6.561118</td>\n",
       "      <td>+49 2272 3245</td>\n",
       "      <td>sterntaler@awo-bm-eu.de</td>\n",
       "      <td>https://www.awo-bm-eu.de/kinder/kitas/27-Stern...</td>\n",
       "      <td>kindergarten</td>\n",
       "    </tr>\n",
       "    <tr>\n",
       "      <th>329</th>\n",
       "      <td>1417095985</td>\n",
       "      <td>Bayern</td>\n",
       "      <td>node</td>\n",
       "      <td>Kita Schoppershof</td>\n",
       "      <td>Schoppershofstraße</td>\n",
       "      <td>82</td>\n",
       "      <td>90489.0</td>\n",
       "      <td>Nürnberg</td>\n",
       "      <td>49.465852</td>\n",
       "      <td>11.097427</td>\n",
       "      <td>+49 911 80199670</td>\n",
       "      <td>kita-schoppershof@awo-nbg.de</td>\n",
       "      <td>https://www.awo-nuernberg.de/</td>\n",
       "      <td>kindergarten</td>\n",
       "    </tr>\n",
       "    <tr>\n",
       "      <th>2972</th>\n",
       "      <td>166035346</td>\n",
       "      <td>Nordrhein-Westfalen</td>\n",
       "      <td>way</td>\n",
       "      <td>AWO Unterbezirk Ennepe-Ruhr e.V.</td>\n",
       "      <td>Neustraße</td>\n",
       "      <td>10</td>\n",
       "      <td>58285.0</td>\n",
       "      <td>Gevelsberg</td>\n",
       "      <td>51.320399</td>\n",
       "      <td>7.337124</td>\n",
       "      <td>NaN</td>\n",
       "      <td>NaN</td>\n",
       "      <td>NaN</td>\n",
       "      <td>NaN</td>\n",
       "    </tr>\n",
       "  </tbody>\n",
       "</table>\n",
       "</div>"
      ],
      "text/plain": [
       "          osm_id                  region  type  \\\n",
       "1639    96453980  Mecklenburg-Vorpommern   way   \n",
       "3488  1225190712     Nordrhein-Westfalen   way   \n",
       "2040    82265814           Niedersachsen   way   \n",
       "1502   338182815                  Hessen   way   \n",
       "626     82923094                  Bayern   way   \n",
       "2775    26659361     Nordrhein-Westfalen   way   \n",
       "2388  1154056361     Nordrhein-Westfalen  node   \n",
       "3509  1291691665     Nordrhein-Westfalen   way   \n",
       "329   1417095985                  Bayern  node   \n",
       "2972   166035346     Nordrhein-Westfalen   way   \n",
       "\n",
       "                                  name              street housenumber  \\\n",
       "1639              Die Kleinen Schulzen         Schulzenweg          10   \n",
       "3488      AWO KiTa im Monfortsquartier           Im Winkel               \n",
       "2040           Wohnanlage am Mühlenhof    Im Kühlen Grunde           5   \n",
       "1502                           AWOPLAN   Hersfelder Straße          39   \n",
       "626         AWO-Kinderhaus Meilenstein        Goethestraße          50   \n",
       "2775        AWO Seniorenzentrum Witten                Egge    73,75,77   \n",
       "2388               AWO Haus Bittermark        Sichelstraße               \n",
       "3509      Kindertagesstätte Sterntaler    Epprather Straße               \n",
       "329                  Kita Schoppershof  Schoppershofstraße          82   \n",
       "2972  AWO Unterbezirk Ennepe-Ruhr e.V.           Neustraße          10   \n",
       "\n",
       "     postcode             city        lat        lon             phone  \\\n",
       "1639  19061.0         Schwerin  53.609547  11.386542               NaN   \n",
       "3488    41238  Mönchengladbach  51.181071   6.450341               NaN   \n",
       "2040    26180          Rastede  53.247303   8.211957   +49 4402 929190   \n",
       "1502  36320.0          Kirtorf  50.760342   9.126503   +49 6635 918290   \n",
       "626   84032.0         Landshut  48.557548  12.128506               NaN   \n",
       "2775  58453.0           Witten  51.435158   7.353515   +49 2302 910450   \n",
       "2388    44229         Dortmund  51.445900   7.467408               NaN   \n",
       "3509    50181          Bedburg  51.007686   6.561118     +49 2272 3245   \n",
       "329   90489.0         Nürnberg  49.465852  11.097427  +49 911 80199670   \n",
       "2972  58285.0       Gevelsberg  51.320399   7.337124               NaN   \n",
       "\n",
       "                             email  \\\n",
       "1639                           NaN   \n",
       "3488                           NaN   \n",
       "2040                           NaN   \n",
       "1502                           NaN   \n",
       "626                            NaN   \n",
       "2775           sz-witten@awo-ww.de   \n",
       "2388                           NaN   \n",
       "3509       sterntaler@awo-bm-eu.de   \n",
       "329   kita-schoppershof@awo-nbg.de   \n",
       "2972                           NaN   \n",
       "\n",
       "                                                website          amenity  \n",
       "1639  https://www.awo-schwerin.de/fachbereiche/kinde...     kindergarten  \n",
       "3488                                                NaN     kindergarten  \n",
       "2040                  https://www.wohnanlage-rastede.de  social_facility  \n",
       "1502                                                NaN              NaN  \n",
       "626                                                 NaN     kindergarten  \n",
       "2775                       https://sz-witten.awo-ww.de/  social_facility  \n",
       "2388                                                NaN              NaN  \n",
       "3509  https://www.awo-bm-eu.de/kinder/kitas/27-Stern...     kindergarten  \n",
       "329                       https://www.awo-nuernberg.de/     kindergarten  \n",
       "2972                                                NaN              NaN  "
      ]
     },
     "execution_count": 23,
     "metadata": {},
     "output_type": "execute_result"
    }
   ],
   "source": [
    "#it seems like empty cells contain empty string, therefore it needs to be replaced with NA values \n",
    "#df_raw = df_raw.replace(r'^\\s*$', pd.NA, regex=True)\n",
    "df_raw.sample(10)"
   ]
  },
  {
   "cell_type": "code",
   "execution_count": 3,
   "metadata": {},
   "outputs": [
    {
     "data": {
      "text/plain": [
       "region\n",
       "Nordrhein-Westfalen       1236\n",
       "Bayern                     679\n",
       "Niedersachsen              513\n",
       "Thüringen                  300\n",
       "Baden-Württemberg          299\n",
       "Sachsen                    281\n",
       "Hessen                     237\n",
       "Schleswig-Holstein         190\n",
       "Brandenburg                163\n",
       "Mecklenburg-Vorpommern     156\n",
       "Sachsen-Anhalt             142\n",
       "Saarland                   121\n",
       "Rheinland-Pfalz             94\n",
       "Berlin                      84\n",
       "Bremen                      69\n",
       "Hamburg                     40\n",
       "Name: count, dtype: int64"
      ]
     },
     "execution_count": 3,
     "metadata": {},
     "output_type": "execute_result"
    }
   ],
   "source": [
    "df_raw.region.value_counts()"
   ]
  },
  {
   "cell_type": "code",
   "execution_count": 4,
   "metadata": {},
   "outputs": [
    {
     "data": {
      "text/plain": [
       "osm_id            0\n",
       "region            0\n",
       "type              0\n",
       "name            413\n",
       "street         1705\n",
       "housenumber    1740\n",
       "postcode       1825\n",
       "city           1842\n",
       "lat               0\n",
       "lon               0\n",
       "phone          3138\n",
       "email          3827\n",
       "website        2846\n",
       "amenity        1308\n",
       "dtype: int64"
      ]
     },
     "execution_count": 4,
     "metadata": {},
     "output_type": "execute_result"
    }
   ],
   "source": [
    "df_raw.isnull().sum() "
   ]
  },
  {
   "cell_type": "markdown",
   "metadata": {},
   "source": [
    "Reverse geocoding to fill address details (city, street, postcode, housenumber) for rows having only lat and lon \n"
   ]
  },
  {
   "cell_type": "code",
   "execution_count": null,
   "metadata": {},
   "outputs": [],
   "source": [
    "mask_empty_address = df_raw['city'].isna()\n",
    "dict_empty_address = df_raw.loc[mask_empty_address].apply(lambda row:geocode_lat_lon(row['lat'], row['lon']), axis=1)\n"
   ]
  },
  {
   "cell_type": "code",
   "execution_count": 6,
   "metadata": {},
   "outputs": [
    {
     "name": "stderr",
     "output_type": "stream",
     "text": [
      "/tmp/ipykernel_4426/3849740406.py:2: FutureWarning: Setting an item of incompatible dtype is deprecated and will raise an error in a future version of pandas. Value '['76275' '79331' '73525' ... '37327' '99427' '36448']' has dtype incompatible with float64, please explicitly cast to a compatible dtype first.\n",
      "  df_raw.loc[mask_empty_address, add_addresses.columns] = add_addresses\n"
     ]
    }
   ],
   "source": [
    "add_addresses = pd.DataFrame(list(dict_empty_address), index=dict_empty_address.index)\n",
    "df_raw.loc[mask_empty_address, add_addresses.columns] = add_addresses"
   ]
  },
  {
   "cell_type": "code",
   "execution_count": 7,
   "metadata": {},
   "outputs": [
    {
     "data": {
      "text/plain": [
       "osm_id            0\n",
       "region            0\n",
       "type              0\n",
       "name            413\n",
       "street           16\n",
       "housenumber      47\n",
       "postcode         18\n",
       "city              0\n",
       "lat               0\n",
       "lon               0\n",
       "phone          3138\n",
       "email          3827\n",
       "website        2846\n",
       "amenity        1308\n",
       "dtype: int64"
      ]
     },
     "execution_count": 7,
     "metadata": {},
     "output_type": "execute_result"
    }
   ],
   "source": [
    "df_raw.isna().sum()"
   ]
  },
  {
   "cell_type": "code",
   "execution_count": 8,
   "metadata": {},
   "outputs": [
    {
     "data": {
      "text/html": [
       "<div>\n",
       "<style scoped>\n",
       "    .dataframe tbody tr th:only-of-type {\n",
       "        vertical-align: middle;\n",
       "    }\n",
       "\n",
       "    .dataframe tbody tr th {\n",
       "        vertical-align: top;\n",
       "    }\n",
       "\n",
       "    .dataframe thead th {\n",
       "        text-align: right;\n",
       "    }\n",
       "</style>\n",
       "<table border=\"1\" class=\"dataframe\">\n",
       "  <thead>\n",
       "    <tr style=\"text-align: right;\">\n",
       "      <th></th>\n",
       "      <th>osm_id</th>\n",
       "      <th>region</th>\n",
       "      <th>type</th>\n",
       "      <th>name</th>\n",
       "      <th>street</th>\n",
       "      <th>housenumber</th>\n",
       "      <th>postcode</th>\n",
       "      <th>city</th>\n",
       "      <th>lat</th>\n",
       "      <th>lon</th>\n",
       "      <th>phone</th>\n",
       "      <th>email</th>\n",
       "      <th>website</th>\n",
       "      <th>amenity</th>\n",
       "    </tr>\n",
       "  </thead>\n",
       "  <tbody>\n",
       "    <tr>\n",
       "      <th>1276</th>\n",
       "      <td>1104913364</td>\n",
       "      <td>Brandenburg</td>\n",
       "      <td>way</td>\n",
       "      <td>NaN</td>\n",
       "      <td>Pietschkerstraße</td>\n",
       "      <td>44</td>\n",
       "      <td>14480.0</td>\n",
       "      <td>Potsdam</td>\n",
       "      <td>52.378131</td>\n",
       "      <td>13.125325</td>\n",
       "      <td>+49 331 887 49580</td>\n",
       "      <td>pfiffikus@awo-potsdam.de</td>\n",
       "      <td>https://awo-potsdam.de/de/standort/kita-pfiffi...</td>\n",
       "      <td>kindergarten</td>\n",
       "    </tr>\n",
       "    <tr>\n",
       "      <th>1994</th>\n",
       "      <td>12327386579</td>\n",
       "      <td>Niedersachsen</td>\n",
       "      <td>node</td>\n",
       "      <td>NaN</td>\n",
       "      <td>Dorfstraße</td>\n",
       "      <td>58a</td>\n",
       "      <td>21365.0</td>\n",
       "      <td>Adendorf</td>\n",
       "      <td>53.287278</td>\n",
       "      <td>10.445362</td>\n",
       "      <td>+49 4131 898 00 78</td>\n",
       "      <td>info@awosozial.de</td>\n",
       "      <td>NaN</td>\n",
       "      <td>social_facility</td>\n",
       "    </tr>\n",
       "    <tr>\n",
       "      <th>2304</th>\n",
       "      <td>1341369737</td>\n",
       "      <td>Niedersachsen</td>\n",
       "      <td>way</td>\n",
       "      <td>NaN</td>\n",
       "      <td>Im Tale</td>\n",
       "      <td>2-4</td>\n",
       "      <td>NaN</td>\n",
       "      <td>Celle</td>\n",
       "      <td>52.654001</td>\n",
       "      <td>10.070353</td>\n",
       "      <td>NaN</td>\n",
       "      <td>kita.imtale.celle@awo-juki.de</td>\n",
       "      <td>https://www.awo-juki.de/index.php?id=930&amp;L=it%...</td>\n",
       "      <td>kindergarten</td>\n",
       "    </tr>\n",
       "    <tr>\n",
       "      <th>3847</th>\n",
       "      <td>273517107</td>\n",
       "      <td>Sachsen</td>\n",
       "      <td>way</td>\n",
       "      <td>NaN</td>\n",
       "      <td>Gerichtsstraße</td>\n",
       "      <td>2</td>\n",
       "      <td>2779.0</td>\n",
       "      <td>Großschönau</td>\n",
       "      <td>50.896862</td>\n",
       "      <td>14.665772</td>\n",
       "      <td>+49 35841 2430</td>\n",
       "      <td>kinderland@awo-oberlausitz.de</td>\n",
       "      <td>https://awo-oberlausitz.de/kindertagesstaetten...</td>\n",
       "      <td>childcare</td>\n",
       "    </tr>\n",
       "    <tr>\n",
       "      <th>4416</th>\n",
       "      <td>124874406</td>\n",
       "      <td>Thüringen</td>\n",
       "      <td>way</td>\n",
       "      <td>NaN</td>\n",
       "      <td>Mörlaer Straße</td>\n",
       "      <td>8b</td>\n",
       "      <td>07407</td>\n",
       "      <td>Rudolstadt</td>\n",
       "      <td>50.719988</td>\n",
       "      <td>11.322286</td>\n",
       "      <td>+49 3672 422 552</td>\n",
       "      <td>feste-burg@awo-rudolstadt.de</td>\n",
       "      <td>http://www.awo-rudolstadt.de</td>\n",
       "      <td>NaN</td>\n",
       "    </tr>\n",
       "    <tr>\n",
       "      <th>4444</th>\n",
       "      <td>181239665</td>\n",
       "      <td>Thüringen</td>\n",
       "      <td>way</td>\n",
       "      <td>NaN</td>\n",
       "      <td>Löwentorstraße</td>\n",
       "      <td>33</td>\n",
       "      <td>99752.0</td>\n",
       "      <td>Bleicherode</td>\n",
       "      <td>51.442816</td>\n",
       "      <td>10.569425</td>\n",
       "      <td>+49 36338 42486</td>\n",
       "      <td>leiterin@kita-bleicherode.de</td>\n",
       "      <td>NaN</td>\n",
       "      <td>NaN</td>\n",
       "    </tr>\n",
       "  </tbody>\n",
       "</table>\n",
       "</div>"
      ],
      "text/plain": [
       "           osm_id         region  type name            street housenumber  \\\n",
       "1276   1104913364    Brandenburg   way  NaN  Pietschkerstraße          44   \n",
       "1994  12327386579  Niedersachsen  node  NaN        Dorfstraße         58a   \n",
       "2304   1341369737  Niedersachsen   way  NaN           Im Tale         2-4   \n",
       "3847    273517107        Sachsen   way  NaN    Gerichtsstraße           2   \n",
       "4416    124874406      Thüringen   way  NaN    Mörlaer Straße          8b   \n",
       "4444    181239665      Thüringen   way  NaN    Löwentorstraße          33   \n",
       "\n",
       "     postcode         city        lat        lon               phone  \\\n",
       "1276  14480.0      Potsdam  52.378131  13.125325   +49 331 887 49580   \n",
       "1994  21365.0     Adendorf  53.287278  10.445362  +49 4131 898 00 78   \n",
       "2304      NaN        Celle  52.654001  10.070353                 NaN   \n",
       "3847   2779.0  Großschönau  50.896862  14.665772      +49 35841 2430   \n",
       "4416    07407   Rudolstadt  50.719988  11.322286    +49 3672 422 552   \n",
       "4444  99752.0  Bleicherode  51.442816  10.569425     +49 36338 42486   \n",
       "\n",
       "                              email  \\\n",
       "1276       pfiffikus@awo-potsdam.de   \n",
       "1994              info@awosozial.de   \n",
       "2304  kita.imtale.celle@awo-juki.de   \n",
       "3847  kinderland@awo-oberlausitz.de   \n",
       "4416   feste-burg@awo-rudolstadt.de   \n",
       "4444   leiterin@kita-bleicherode.de   \n",
       "\n",
       "                                                website          amenity  \n",
       "1276  https://awo-potsdam.de/de/standort/kita-pfiffi...     kindergarten  \n",
       "1994                                                NaN  social_facility  \n",
       "2304  https://www.awo-juki.de/index.php?id=930&L=it%...     kindergarten  \n",
       "3847  https://awo-oberlausitz.de/kindertagesstaetten...        childcare  \n",
       "4416                       http://www.awo-rudolstadt.de              NaN  \n",
       "4444                                                NaN              NaN  "
      ]
     },
     "execution_count": 8,
     "metadata": {},
     "output_type": "execute_result"
    }
   ],
   "source": [
    "df_raw[(df_raw['name'].isna()) & (df_raw['email'].notna())] # check which faclities have no name but have email and fill those values with email domain"
   ]
  },
  {
   "cell_type": "code",
   "execution_count": 9,
   "metadata": {},
   "outputs": [],
   "source": [
    "df_raw.loc[df_raw['name'].isna(), 'name'] = df_raw['email'].str.split('@').str[1]"
   ]
  },
  {
   "cell_type": "code",
   "execution_count": 11,
   "metadata": {},
   "outputs": [],
   "source": [
    "postcode_mask = df_raw['postcode'].isna()\n",
    "postcodes = df_raw.loc[postcode_mask].apply(lambda row: geocode_lat_lon(row['lat'], row['lon']), axis=1)\n",
    "add_postcodes = pd.DataFrame(list(postcodes), index=postcodes.index)\n"
   ]
  },
  {
   "cell_type": "code",
   "execution_count": 12,
   "metadata": {},
   "outputs": [],
   "source": [
    "df_raw.loc[postcode_mask, add_postcodes.columns] = add_postcodes"
   ]
  },
  {
   "cell_type": "code",
   "execution_count": 13,
   "metadata": {},
   "outputs": [],
   "source": [
    "street_mask = df_raw['street'].isna()\n",
    "streets = df_raw.loc[street_mask].apply(lambda row: geocode_lat_lon(row['lat'], row['lon']), axis=1)\n",
    "add_streets = pd.DataFrame(list(streets), index=streets.index)"
   ]
  },
  {
   "cell_type": "code",
   "execution_count": 14,
   "metadata": {},
   "outputs": [],
   "source": [
    "df_raw.loc[street_mask, add_streets.columns] = add_streets"
   ]
  },
  {
   "cell_type": "code",
   "execution_count": 15,
   "metadata": {},
   "outputs": [],
   "source": [
    "housenumber_mask = df_raw['housenumber'].isna()\n",
    "hnumbers =df_raw.loc[housenumber_mask].apply(lambda row: geocode_lat_lon(row['lat'], row['lon']), axis=1)\n",
    "add_hnumbers = pd.DataFrame(list(hnumbers), index=hnumbers.index)\n",
    "df_raw.loc[housenumber_mask, add_hnumbers.columns] = add_hnumbers"
   ]
  },
  {
   "cell_type": "code",
   "execution_count": 16,
   "metadata": {},
   "outputs": [
    {
     "data": {
      "text/plain": [
       "osm_id            0\n",
       "region            0\n",
       "type              0\n",
       "name            407\n",
       "street            0\n",
       "housenumber       0\n",
       "postcode          0\n",
       "city              0\n",
       "lat               0\n",
       "lon               0\n",
       "phone          3138\n",
       "email          3827\n",
       "website        2846\n",
       "amenity        1308\n",
       "dtype: int64"
      ]
     },
     "execution_count": 16,
     "metadata": {},
     "output_type": "execute_result"
    }
   ],
   "source": [
    "df_raw.isna().sum() "
   ]
  },
  {
   "cell_type": "code",
   "execution_count": 25,
   "metadata": {},
   "outputs": [
    {
     "data": {
      "text/plain": [
       "amenity\n",
       "recycling                 128\n",
       "parking                    64\n",
       "kindergarten               25\n",
       "social_facility            11\n",
       "childcare                   7\n",
       "bicycle_parking             7\n",
       "social_centre               3\n",
       "atm                         2\n",
       "charging_station            2\n",
       "nursing_home                2\n",
       "fountain                    1\n",
       "shelter                     1\n",
       "bicycle_repair_station      1\n",
       "community_centre            1\n",
       "waste_basket                1\n",
       "events_venue                1\n",
       "drinking_water              1\n",
       "waste_disposal              1\n",
       "vending_machine             1\n",
       "cafe                        1\n",
       "give_box                    1\n",
       "public_bookcase             1\n",
       "parking_entrance            1\n",
       "Name: count, dtype: int64"
      ]
     },
     "execution_count": 25,
     "metadata": {},
     "output_type": "execute_result"
    }
   ],
   "source": [
    "df_raw[df_raw['name'].isna()]['amenity'].value_counts()"
   ]
  },
  {
   "cell_type": "markdown",
   "metadata": {},
   "source": [
    "Matching names with 'Einrichtungsdatebank_Export...' file "
   ]
  },
  {
   "cell_type": "code",
   "execution_count": 25,
   "metadata": {},
   "outputs": [
    {
     "data": {
      "text/html": [
       "<div>\n",
       "<style scoped>\n",
       "    .dataframe tbody tr th:only-of-type {\n",
       "        vertical-align: middle;\n",
       "    }\n",
       "\n",
       "    .dataframe tbody tr th {\n",
       "        vertical-align: top;\n",
       "    }\n",
       "\n",
       "    .dataframe thead th {\n",
       "        text-align: right;\n",
       "    }\n",
       "</style>\n",
       "<table border=\"1\" class=\"dataframe\">\n",
       "  <thead>\n",
       "    <tr style=\"text-align: right;\">\n",
       "      <th></th>\n",
       "      <th>verband_id</th>\n",
       "      <th>name</th>\n",
       "      <th>rechtsform</th>\n",
       "      <th>adresse_strasse</th>\n",
       "      <th>adresse_zusatz</th>\n",
       "      <th>adresse_plz</th>\n",
       "      <th>adresse_ort</th>\n",
       "      <th>adresse_telefon</th>\n",
       "      <th>adresse_email</th>\n",
       "      <th>postfach_adresse</th>\n",
       "      <th>...</th>\n",
       "      <th>bagfw_kategorie</th>\n",
       "      <th>anzahl_vollzeit</th>\n",
       "      <th>anzahl_teilzeit</th>\n",
       "      <th>anzahl_ehrenamt</th>\n",
       "      <th>anzahl_plaetze</th>\n",
       "      <th>anzahl_fsj</th>\n",
       "      <th>anzahl_bfd</th>\n",
       "      <th>target_group</th>\n",
       "      <th>tags</th>\n",
       "      <th>carrier_id</th>\n",
       "    </tr>\n",
       "  </thead>\n",
       "  <tbody>\n",
       "    <tr>\n",
       "      <th>4094</th>\n",
       "      <td>3073</td>\n",
       "      <td>Mittagsbetreuung an der Grundschule Landau</td>\n",
       "      <td>NaN</td>\n",
       "      <td>Maria-Ward-Platz 2</td>\n",
       "      <td>NaN</td>\n",
       "      <td>94405</td>\n",
       "      <td>Landau</td>\n",
       "      <td>09951 - 6555</td>\n",
       "      <td>NaN</td>\n",
       "      <td>NaN</td>\n",
       "      <td>...</td>\n",
       "      <td>2.2.3</td>\n",
       "      <td>0</td>\n",
       "      <td>1</td>\n",
       "      <td>0</td>\n",
       "      <td>25</td>\n",
       "      <td>0</td>\n",
       "      <td>0</td>\n",
       "      <td>NaN</td>\n",
       "      <td>Erholungshilfe,Kinder,Jugendliche</td>\n",
       "      <td>1.050000e+10</td>\n",
       "    </tr>\n",
       "    <tr>\n",
       "      <th>7704</th>\n",
       "      <td>2336</td>\n",
       "      <td>Mutter-Kind-Kuren</td>\n",
       "      <td>NaN</td>\n",
       "      <td>Chérisystr. 15</td>\n",
       "      <td>NaN</td>\n",
       "      <td>78467</td>\n",
       "      <td>Konstanz</td>\n",
       "      <td>07531 / 958963</td>\n",
       "      <td>anonymisiert@awo-konstanz.de</td>\n",
       "      <td>NaN</td>\n",
       "      <td>...</td>\n",
       "      <td>1.3.4</td>\n",
       "      <td>0</td>\n",
       "      <td>1</td>\n",
       "      <td>0</td>\n",
       "      <td>0</td>\n",
       "      <td>0</td>\n",
       "      <td>0</td>\n",
       "      <td>NaN</td>\n",
       "      <td>Beratungsstellen,Mutter-Kind,Vater-Kind,Kur,Ku...</td>\n",
       "      <td>9.200600e+09</td>\n",
       "    </tr>\n",
       "    <tr>\n",
       "      <th>7132</th>\n",
       "      <td>11743</td>\n",
       "      <td>Tagesgruppe Neumühl Bauspielplatz Neumühl</td>\n",
       "      <td>NaN</td>\n",
       "      <td>Alexstraße 8</td>\n",
       "      <td>NaN</td>\n",
       "      <td>47167</td>\n",
       "      <td>Duisburg</td>\n",
       "      <td>NaN</td>\n",
       "      <td>NaN</td>\n",
       "      <td>NaN</td>\n",
       "      <td>...</td>\n",
       "      <td>NaN</td>\n",
       "      <td>0</td>\n",
       "      <td>0</td>\n",
       "      <td>0</td>\n",
       "      <td>0</td>\n",
       "      <td>0</td>\n",
       "      <td>0</td>\n",
       "      <td>NaN</td>\n",
       "      <td>Kinder,Tagespflege,Kindergarten,Kindergärten,K...</td>\n",
       "      <td>6.300102e+09</td>\n",
       "    </tr>\n",
       "    <tr>\n",
       "      <th>8299</th>\n",
       "      <td>3478</td>\n",
       "      <td>AWO Integrations- und Service gGmbH AWO Integr...</td>\n",
       "      <td>NaN</td>\n",
       "      <td>Friedrich-Schiller-Straße 2 E</td>\n",
       "      <td>NaN</td>\n",
       "      <td>3127</td>\n",
       "      <td>Guben</td>\n",
       "      <td>03561 685170-0</td>\n",
       "      <td>anonymisiert@awo-waescherei.de</td>\n",
       "      <td>NaN</td>\n",
       "      <td>...</td>\n",
       "      <td>5.2.18</td>\n",
       "      <td>0</td>\n",
       "      <td>0</td>\n",
       "      <td>0</td>\n",
       "      <td>0</td>\n",
       "      <td>0</td>\n",
       "      <td>0</td>\n",
       "      <td>NaN</td>\n",
       "      <td>Integrationsbetriebe,Behinderung</td>\n",
       "      <td>1.302000e+10</td>\n",
       "    </tr>\n",
       "    <tr>\n",
       "      <th>4174</th>\n",
       "      <td>3003</td>\n",
       "      <td>Seniorenzentrum Mömlingen AWO Care gGmbH</td>\n",
       "      <td>NaN</td>\n",
       "      <td>Danziger Straße 8</td>\n",
       "      <td>NaN</td>\n",
       "      <td>63853</td>\n",
       "      <td>Mömlingen</td>\n",
       "      <td>06022/7093210</td>\n",
       "      <td>anonymisiert@awo-unterfranken.de</td>\n",
       "      <td>NaN</td>\n",
       "      <td>...</td>\n",
       "      <td>4.1.4</td>\n",
       "      <td>0</td>\n",
       "      <td>0</td>\n",
       "      <td>0</td>\n",
       "      <td>68</td>\n",
       "      <td>0</td>\n",
       "      <td>0</td>\n",
       "      <td>NaN</td>\n",
       "      <td>Altenpflege,Kurzzeitpflege,Seniorenzentrum,Sen...</td>\n",
       "      <td>1.040000e+10</td>\n",
       "    </tr>\n",
       "    <tr>\n",
       "      <th>4091</th>\n",
       "      <td>2509</td>\n",
       "      <td>Offene Ganztagsschule an der Ludwig-Thoma-Haup...</td>\n",
       "      <td>NaN</td>\n",
       "      <td>Dr. Engert-Straße 5</td>\n",
       "      <td>NaN</td>\n",
       "      <td>85221</td>\n",
       "      <td>Dachau</td>\n",
       "      <td>NaN</td>\n",
       "      <td>anonymisiert@awo-dachau.de</td>\n",
       "      <td>NaN</td>\n",
       "      <td>...</td>\n",
       "      <td>10.4.2.3</td>\n",
       "      <td>0</td>\n",
       "      <td>0</td>\n",
       "      <td>0</td>\n",
       "      <td>0</td>\n",
       "      <td>0</td>\n",
       "      <td>0</td>\n",
       "      <td>NaN</td>\n",
       "      <td>Selbsthilfegruppe,Hausaufgaben,Schülergruppen</td>\n",
       "      <td>1.010040e+10</td>\n",
       "    </tr>\n",
       "  </tbody>\n",
       "</table>\n",
       "<p>6 rows × 28 columns</p>\n",
       "</div>"
      ],
      "text/plain": [
       "      verband_id                                               name  \\\n",
       "4094        3073         Mittagsbetreuung an der Grundschule Landau   \n",
       "7704        2336                                  Mutter-Kind-Kuren   \n",
       "7132       11743          Tagesgruppe Neumühl Bauspielplatz Neumühl   \n",
       "8299        3478  AWO Integrations- und Service gGmbH AWO Integr...   \n",
       "4174        3003           Seniorenzentrum Mömlingen AWO Care gGmbH   \n",
       "4091        2509  Offene Ganztagsschule an der Ludwig-Thoma-Haup...   \n",
       "\n",
       "     rechtsform                adresse_strasse adresse_zusatz adresse_plz  \\\n",
       "4094        NaN             Maria-Ward-Platz 2            NaN       94405   \n",
       "7704        NaN                 Chérisystr. 15            NaN       78467   \n",
       "7132        NaN                   Alexstraße 8            NaN       47167   \n",
       "8299        NaN  Friedrich-Schiller-Straße 2 E            NaN        3127   \n",
       "4174        NaN              Danziger Straße 8            NaN       63853   \n",
       "4091        NaN            Dr. Engert-Straße 5            NaN       85221   \n",
       "\n",
       "     adresse_ort adresse_telefon                     adresse_email  \\\n",
       "4094      Landau    09951 - 6555                               NaN   \n",
       "7704    Konstanz  07531 / 958963      anonymisiert@awo-konstanz.de   \n",
       "7132    Duisburg             NaN                               NaN   \n",
       "8299       Guben  03561 685170-0    anonymisiert@awo-waescherei.de   \n",
       "4174   Mömlingen   06022/7093210  anonymisiert@awo-unterfranken.de   \n",
       "4091      Dachau             NaN        anonymisiert@awo-dachau.de   \n",
       "\n",
       "     postfach_adresse  ... bagfw_kategorie anzahl_vollzeit  anzahl_teilzeit  \\\n",
       "4094              NaN  ...           2.2.3               0                1   \n",
       "7704              NaN  ...           1.3.4               0                1   \n",
       "7132              NaN  ...             NaN               0                0   \n",
       "8299              NaN  ...          5.2.18               0                0   \n",
       "4174              NaN  ...           4.1.4               0                0   \n",
       "4091              NaN  ...        10.4.2.3               0                0   \n",
       "\n",
       "      anzahl_ehrenamt  anzahl_plaetze  anzahl_fsj  anzahl_bfd  target_group  \\\n",
       "4094                0              25           0           0           NaN   \n",
       "7704                0               0           0           0           NaN   \n",
       "7132                0               0           0           0           NaN   \n",
       "8299                0               0           0           0           NaN   \n",
       "4174                0              68           0           0           NaN   \n",
       "4091                0               0           0           0           NaN   \n",
       "\n",
       "                                                   tags    carrier_id  \n",
       "4094                  Erholungshilfe,Kinder,Jugendliche  1.050000e+10  \n",
       "7704  Beratungsstellen,Mutter-Kind,Vater-Kind,Kur,Ku...  9.200600e+09  \n",
       "7132  Kinder,Tagespflege,Kindergarten,Kindergärten,K...  6.300102e+09  \n",
       "8299                   Integrationsbetriebe,Behinderung  1.302000e+10  \n",
       "4174  Altenpflege,Kurzzeitpflege,Seniorenzentrum,Sen...  1.040000e+10  \n",
       "4091      Selbsthilfegruppe,Hausaufgaben,Schülergruppen  1.010040e+10  \n",
       "\n",
       "[6 rows x 28 columns]"
      ]
     },
     "execution_count": 25,
     "metadata": {},
     "output_type": "execute_result"
    }
   ],
   "source": [
    "current_db = pd.read_excel(\"2025_09_16_Einrichtunsdatenbank_Export_descriptions_final.xlsx\" , sheet_name = 'Facilities')\n",
    "current_db.sample(6)"
   ]
  },
  {
   "cell_type": "markdown",
   "metadata": {},
   "source": [
    "\n",
    "To compare and match names one option is to normalize the strings in name and compare, or since lot of names are missing, create address field in osm results and compare with address from source facility db . Also names need to be cleaned since some findings are not AWO facilities "
   ]
  },
  {
   "cell_type": "code",
   "execution_count": 17,
   "metadata": {},
   "outputs": [],
   "source": [
    "df_raw.to_csv('awo_osm_data.csv', index=False, encoding='utf-8')"
   ]
  },
  {
   "cell_type": "code",
   "execution_count": 38,
   "metadata": {},
   "outputs": [],
   "source": [
    "NAMES_MAPPING ={\n",
    "    \"arbeiterwohlfahrt\": \"awo\",\n",
    "    \"kindertagesstätte\" : \"kita\",\n",
    "    \"eingetragener verein\" : \"e.v.\",\n",
    "    \"evangelisch\": \"ev.\",\n",
    "    \"kreisverband\":\"kv\",\n",
    "    \"ortsverein\": \"ov\",\n",
    "    \"altersheim\": \"altenpflegeheim\",\n",
    "}\n",
    "\n",
    "ADDRESS_MAPPING ={\n",
    "    \"str.\": \"straße\",\n",
    "    \"pl.\" : \"platz\",\n",
    "\n",
    "} "
   ]
  },
  {
   "cell_type": "code",
   "execution_count": 39,
   "metadata": {},
   "outputs": [],
   "source": [
    "from rapidfuzz import fuzz, process\n",
    "\n",
    "def normalize_text(text:str, rules:dict) ->str:\n",
    "    if pd.isna(text):\n",
    "        return \" \"\n",
    "    text = text.lower()\n",
    "    text = re.sub(r\"[^a-z0-9äüöß]\", \" \", text)\n",
    "    for k, v in rules.items():\n",
    "        text=text.replace(k, v)\n",
    "    return re.sub(r\"\\s+\", \" \", text).strip()\n",
    "\n",
    "def normalize_name(text:str) ->str:\n",
    "    return normalize_text(text, NAMES_MAPPING)\n",
    "\n",
    "def normalize_address(addr:str) ->str:\n",
    "    return normalize_text(text, ADDRESS_MAPPING)\n",
    "\n"
   ]
  },
  {
   "cell_type": "code",
   "execution_count": 44,
   "metadata": {},
   "outputs": [],
   "source": [
    "def find_best_match(name, osm_names, threshold = 85):\n",
    "    if not name:\n",
    "        return None, 0\n",
    "    match = process.extractOne(\n",
    "        name,\n",
    "        osm_names,\n",
    "        scorer=fuzz.token_sort_ratio\n",
    "    )\n",
    "    if match and match[1] >= threshold:\n",
    "        return match[0], match[1]\n",
    "    return None, 0\n",
    "\n",
    "\n",
    "def match_facilities(df_db, df_osm, threshold=85):\n",
    "    #1.normalize names in both dfs\n",
    "    df_db['name_norm'] = df_db['name'].apply(normalize_name)\n",
    "    df_osm['name_norm'] = df_osm['name'].apply(normalize_name)\n",
    "\n",
    "    osm_names = df_osm[\"name_norm\"].dropna().unique().tolist() \n",
    "\n",
    "    # Match facilities DB → OSM\n",
    "    df_db[[\"osm_match\", \"match_score\"]] = df_db[\"name_norm\"].apply(\n",
    "        lambda x: pd.Series(find_best_match(x, osm_names, threshold)))\n",
    "\n",
    "    df_db['found_in_osm']= df_db[\"osm_match\"].notna()\n",
    "\n",
    "    # Match OSM → facilities DB\n",
    "    db_names = df_db['name_norm'].dropna().unique().tolist()\n",
    "\n",
    "    df_osm[['db_match', 'match_score']] = df_osm[\"name_norm\"].apply(\n",
    "        lambda x:pd.Series(find_best_match(x, db_names, threshold)))\n",
    "\n",
    "    df_osm['found_in_db'] = df_osm[\"db_match\"].notna()\n",
    "\n",
    "    return df_db, df_osm\n",
    "\n"
   ]
  },
  {
   "cell_type": "code",
   "execution_count": 45,
   "metadata": {},
   "outputs": [],
   "source": [
    "current_db_matched, df_raw_matched = match_facilities(current_db, df_raw)"
   ]
  },
  {
   "cell_type": "code",
   "execution_count": 47,
   "metadata": {},
   "outputs": [
    {
     "data": {
      "text/plain": [
       "found_in_osm\n",
       "False    8051\n",
       "True     1977\n",
       "Name: count, dtype: int64"
      ]
     },
     "execution_count": 47,
     "metadata": {},
     "output_type": "execute_result"
    }
   ],
   "source": [
    "current_db['found_in_osm'].value_counts()"
   ]
  },
  {
   "cell_type": "code",
   "execution_count": 81,
   "metadata": {},
   "outputs": [
    {
     "data": {
      "text/plain": [
       "found_in_db\n",
       "False    2923\n",
       "True     1681\n",
       "Name: count, dtype: int64"
      ]
     },
     "execution_count": 81,
     "metadata": {},
     "output_type": "execute_result"
    }
   ],
   "source": [
    "df_raw['found_in_db'].value_counts() #only 1681 facilities from osm found in facilities db "
   ]
  },
  {
   "cell_type": "code",
   "execution_count": 63,
   "metadata": {},
   "outputs": [],
   "source": [
    "#df_raw_matched[df_raw_matched['found_in_db']==False].sample(20)\n",
    "#currently are compared only facilities, we can now also check associations \n",
    "associations = pd.read_excel(\"2025_09_16_Einrichtunsdatenbank_Export_descriptions_final.xlsx\" , sheet_name = 'Associations')\n",
    "associations['name_norm'] = associations['name'].apply(normalize_name)\n",
    "asso_names = associations['name_norm'].dropna().unique().tolist()"
   ]
  },
  {
   "cell_type": "code",
   "execution_count": 68,
   "metadata": {},
   "outputs": [],
   "source": [
    "df_raw_matched[['asso_match', 'asso_match_score']] = df_raw_matched['name_norm'].apply(lambda x:pd.Series(find_best_match(x, asso_names )))"
   ]
  },
  {
   "cell_type": "code",
   "execution_count": 70,
   "metadata": {},
   "outputs": [],
   "source": [
    "df_raw_matched['found_in_asso'] = df_raw_matched[\"asso_match\"].notna()"
   ]
  },
  {
   "cell_type": "code",
   "execution_count": 80,
   "metadata": {},
   "outputs": [
    {
     "data": {
      "text/plain": [
       "found_in_asso\n",
       "False    4207\n",
       "True      397\n",
       "Name: count, dtype: int64"
      ]
     },
     "execution_count": 80,
     "metadata": {},
     "output_type": "execute_result"
    }
   ],
   "source": [
    "df_raw_matched['found_in_asso'].value_counts() # only 397 associations found"
   ]
  },
  {
   "cell_type": "code",
   "execution_count": 99,
   "metadata": {},
   "outputs": [
    {
     "data": {
      "text/plain": [
       "(4265, 21)"
      ]
     },
     "execution_count": 99,
     "metadata": {},
     "output_type": "execute_result"
    }
   ],
   "source": [
    "#remove those which might not be AWO\n",
    "#pattern =r'/^((?!awo).)*$/s' \n",
    "pattern=r'\\bawo\\b' # contains awo as standalone word\n",
    "has_word = df_raw_matched['name'].str.contains(pattern, case=False, na=False)\n",
    "has_any = df_raw_matched['name'].str.contains(\"awo\", case=False, na=False) #entries without awo in name \n",
    "#leave only those which have standalone AWO and those who do not have any awo sub-string \n",
    "mask = has_word|(~has_any)\n",
    "df_raw_matched_filtered = df_raw.loc[mask].reset_index(drop=True)\n",
    "\n"
   ]
  },
  {
   "cell_type": "code",
   "execution_count": 100,
   "metadata": {},
   "outputs": [
    {
     "data": {
      "text/plain": [
       "name\n",
       "Jawoll                                79\n",
       "Volksbank BraWo                       11\n",
       "Paul-Neck-Straße - Pawoła Njekowa     10\n",
       "Petrosawodsker Straße                  6\n",
       "BraWo-Allee                            4\n",
       "                                      ..\n",
       "Auto LAWO                              1\n",
       "jenawohnen Service-Center Winzerla     1\n",
       "Pawon Sipah                            1\n",
       "Lawo Alm                               1\n",
       "Hochhaus - Jenawohnen                  1\n",
       "Name: count, Length: 206, dtype: int64"
      ]
     },
     "execution_count": 100,
     "metadata": {},
     "output_type": "execute_result"
    }
   ],
   "source": [
    "df_wrong= df_raw_matched.loc[~mask].reset_index(drop=True)\n",
    "wrong_names = df_wrong[['name', 'email', 'website']]\n",
    "wrong_names['name'].value_counts()\n"
   ]
  },
  {
   "cell_type": "code",
   "execution_count": 105,
   "metadata": {},
   "outputs": [],
   "source": [
    "df_raw_matched_filtered .to_csv('filtered_awo_osm_data.csv', index=False, encoding='utf-8')\n",
    "wrong_names.to_csv('wrong_findings_osm.csv', index=False, encoding='utf-8') #save it as .csv just in case \n"
   ]
  },
  {
   "cell_type": "markdown",
   "metadata": {},
   "source": [
    "After removing wrong entries like Jawoll, Volksbank BrAWO, Lawo.... 4265 potentially correct AWO facilities and Associations remained. "
   ]
  }
 ],
 "metadata": {
  "kernelspec": {
   "display_name": "immo",
   "language": "python",
   "name": "python3"
  },
  "language_info": {
   "codemirror_mode": {
    "name": "ipython",
    "version": 3
   },
   "file_extension": ".py",
   "mimetype": "text/x-python",
   "name": "python",
   "nbconvert_exporter": "python",
   "pygments_lexer": "ipython3",
   "version": "3.13.2"
  }
 },
 "nbformat": 4,
 "nbformat_minor": 2
}
