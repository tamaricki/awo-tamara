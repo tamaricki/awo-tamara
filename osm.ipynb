{
 "cells": [
  {
   "cell_type": "code",
   "execution_count": 7,
   "metadata": {},
   "outputs": [],
   "source": [
    "import requests\n",
    "import csv\n",
    "import time"
   ]
  },
  {
   "cell_type": "code",
   "execution_count": 1,
   "metadata": {},
   "outputs": [],
   "source": [
    "main_overpass_api = \"https://overpass-api.de/api/interpreter\"\n",
    "lz4_overpass_api='https://lz4.overpass-api.de/api/interpreter'\n",
    "osm_overpass_api='https://overpass.openstreetmap.ru/api/interpreter'\n",
    "\n",
    "BUNDES_GROUPS = [\n",
    "    [\"Baden-Württemberg\"],\n",
    "    [\"Bayern\"],\n",
    "    [\"Berlin\", \"Bremen\"],\n",
    "    [\"Brandenburg\",\"Hamburg\"],\n",
    "    [\"Hessen\",\"Mecklenburg-Vorpommern\",\"Rheinland-Pfalz\"],\n",
    "    [\"Niedersachsen\"],\n",
    "    [\"Nordrhein-Westfalen\"],\n",
    "    [\"Saarland\",\"Sachsen\",\"Sachsen-Anhalt\", \"Schleswig-Holstein\",\"Thüringen\"]\n",
    "]"
   ]
  },
  {
   "cell_type": "markdown",
   "metadata": {},
   "source": [
    "Große Bundeslaeder = Bayern, (Berlin, Brandenburg), Hamburg, Nordrhein-Westfalen. Einzelne fragen\n",
    "Mitlere Bundeslaeder= Baden-Württemberg, Bremen, Niedersacchsen \n",
    "Kleine = Hessen, Mecklenburg-Vorpommern, Rheinland-Pfalz, Saarland, Sachsen, Sachsen-Anhalt, Schleswig-Holstein, Thüringen\n",
    "mini = "
   ]
  },
  {
   "cell_type": "code",
   "execution_count": null,
   "metadata": {},
   "outputs": [
    {
     "ename": "AttributeError",
     "evalue": "'DataFrame' object has no attribute 'pd'",
     "output_type": "error",
     "traceback": [
      "\u001b[31m---------------------------------------------------------------------------\u001b[39m",
      "\u001b[31mAttributeError\u001b[39m                            Traceback (most recent call last)",
      "\u001b[32m/tmp/ipykernel_17176/3819825161.py\u001b[39m in \u001b[36m?\u001b[39m\u001b[34m()\u001b[39m\n\u001b[32m     46\u001b[39m                 \u001b[33m\"website\"\u001b[39m: tags.get(\u001b[33m\"contact:website\"\u001b[39m, tags.get(\u001b[33m\"website\"\u001b[39m, \u001b[33m\"\"\u001b[39m)),\n\u001b[32m     47\u001b[39m                 \u001b[33m\"amenity\"\u001b[39m: tags.get(\u001b[33m\"amenity\"\u001b[39m, \u001b[33m\"\"\u001b[39m)\n\u001b[32m     48\u001b[39m             })\n\u001b[32m     49\u001b[39m         time.sleep(\u001b[32m10\u001b[39m)\n\u001b[32m---> \u001b[39m\u001b[32m50\u001b[39m df.pd.DataFrame(all_results)\n\u001b[32m     51\u001b[39m df=pd.to_csv(f\"New_csv_all.csv\", index=\u001b[38;5;28;01mFalse\u001b[39;00m, encoding=\u001b[33m'utf-8'\u001b[39m)\n\u001b[32m     52\u001b[39m print(f'Saved {len(df)} results total')\n\u001b[32m     53\u001b[39m \u001b[38;5;66;03m#print('For following Districts {} Saved {} results'.format(BUNDESLAENDER, len(df)))\u001b[39;00m\n",
      "\u001b[32m~/anaconda3/envs/immo/lib/python3.13/site-packages/pandas/core/generic.py\u001b[39m in \u001b[36m?\u001b[39m\u001b[34m(self, name)\u001b[39m\n\u001b[32m   6295\u001b[39m             \u001b[38;5;28;01mand\u001b[39;00m name \u001b[38;5;28;01mnot\u001b[39;00m \u001b[38;5;28;01min\u001b[39;00m self._accessors\n\u001b[32m   6296\u001b[39m             \u001b[38;5;28;01mand\u001b[39;00m self._info_axis._can_hold_identifiers_and_holds_name(name)\n\u001b[32m   6297\u001b[39m         ):\n\u001b[32m   6298\u001b[39m             \u001b[38;5;28;01mreturn\u001b[39;00m self[name]\n\u001b[32m-> \u001b[39m\u001b[32m6299\u001b[39m         \u001b[38;5;28;01mreturn\u001b[39;00m object.__getattribute__(self, name)\n",
      "\u001b[31mAttributeError\u001b[39m: 'DataFrame' object has no attribute 'pd'"
     ]
    }
   ],
   "source": [
    "all_results=[]\n",
    "for groups in BUNDES_GROUPS:\n",
    "    for region in groups:\n",
    "        query = f\"\"\"[out:json][timeout:180];\n",
    "                area[\"name\"=\"{region}\"]->.searchArea;\n",
    "            (\n",
    "                node[\"name\"~\"(AWO|Arbeiterwohlfahrt)\",i](area.searchArea);\n",
    "                way[\"name\"~\"(AWO|Arbeiterwohlfahrt)\",i](area.searchArea);\n",
    "                relation[\"name\"~\"(AWO|Arbeiterwohlfahrt)\",i](area.searchArea);\n",
    "\n",
    "                node(area.searchArea)[\"operator\"~\"(AWO|Arbeiterwohlfahrt)\",i];\n",
    "                way(area.searchArea)[\"operator\"~\"(AWO|Arbeiterwohlfahrt)\",i];\n",
    "                relation(area.searchArea)[\"operator\"~\"(AWO|Arbeiterwohlfahrt)\",i];\n",
    "\n",
    "                node(area.searchArea)[\"brand\"~\"(AWO|Arbeiterwohlfahrt)\",i];\n",
    "                way(area.searchArea)[\"brand\"~\"(AWO|Arbeiterwohlfahrt)\",i];\n",
    "                relation(area.searchArea)[\"brand\"~\"(AWO|Arbeiterwohlfahrt)\",i];\n",
    "\n",
    "            );\n",
    "            out center;\n",
    "        \"\"\"\n",
    "        response=requests.get(main_overpass_api, params={'data':query})\n",
    "       \n",
    "        try:\n",
    "            result = response.json()\n",
    "        except Exception as e:\n",
    "            print(f\"Error for {region}, {e}\")\n",
    "            continue\n",
    "   # all_results.append(result)\n",
    "    #extracted = extract_elements(result, el)\n",
    "        for el in result.get(\"elements\", []):\n",
    "            tags=el.get(\"tags\", {})\n",
    "            all_results.append({\n",
    "                \"osm_id\": el.get(\"id\"),\n",
    "                \"region\": region,\n",
    "                \"type\": el.get(\"type\"),\n",
    "                \"name\": tags.get(\"name\", \"\"),\n",
    "                \"street\": tags.get(\"addr:street\", \"\"),\n",
    "                \"housenumber\": tags.get(\"addr:housenumber\", \"\"),\n",
    "                \"postcode\": tags.get(\"addr:postcode\", \"\"),\n",
    "                \"city\": tags.get(\"addr:city\", \"\"),\n",
    "                \"lat\": el.get(\"lat\") or el.get(\"center\", {}).get(\"lat\"),\n",
    "                \"lon\": el.get(\"lon\") or el.get(\"center\", {}).get(\"lon\"),\n",
    "                \"phone\": tags.get(\"contact:phone\", tags.get(\"phone\", \"\")),\n",
    "                \"email\": tags.get(\"contact:email\", tags.get(\"email\", \"\")),\n",
    "                \"website\": tags.get(\"contact:website\", tags.get(\"website\", \"\")),\n",
    "                \"amenity\": tags.get(\"amenity\", \"\")\n",
    "            })\n",
    "        time.sleep(10)\n",
    "df=pd.DataFrame(all_results)\n",
    "df.to_csv(f\"New_csv_all.csv\", index=False, encoding='utf-8')\n",
    "print(f'Saved {len(df)} results total')\n",
    "#print('For following Districts {} Saved {} results'.format(BUNDESLAENDER, len(df)))"
   ]
  },
  {
   "cell_type": "code",
   "execution_count": 185,
   "metadata": {},
   "outputs": [
    {
     "data": {
      "text/plain": [
       "678"
      ]
     },
     "execution_count": 185,
     "metadata": {},
     "output_type": "execute_result"
    }
   ],
   "source": [
    "len(all_results)"
   ]
  },
  {
   "cell_type": "code",
   "execution_count": 203,
   "metadata": {},
   "outputs": [
    {
     "data": {
      "text/plain": [
       "region\n",
       "Nordrhein-Westfalen       1236\n",
       "Bayern                     678\n",
       "Niedersachsen              510\n",
       "Thüringen                  300\n",
       "Baden-Württemberg          299\n",
       "Sachsen                    280\n",
       "Hessen                     237\n",
       "Schleswig-Holstein         190\n",
       "Brandenburg                163\n",
       "Mecklenburg-Vorpommern     156\n",
       "Sachsen-Anhalt             142\n",
       "Saarland                   121\n",
       "Rheinland-Pfalz             94\n",
       "Berlin                      84\n",
       "Bremen                      69\n",
       "Hamburg                     40\n",
       "Name: count, dtype: int64"
      ]
     },
     "execution_count": 203,
     "metadata": {},
     "output_type": "execute_result"
    }
   ],
   "source": [
    "df.region.value_counts()"
   ]
  },
  {
   "cell_type": "code",
   "execution_count": 198,
   "metadata": {},
   "outputs": [],
   "source": [
    "pattern_upper = r\"\\bAWO\\b\"\n",
    "has_word = df['name'].str.contains(pattern_word, case=False, na=False)\n",
    "#has_any = big['name'].str.contains(\"awo\", case=False, na=False)\n",
    "mask = has_word|(~has_any)\n",
    "df_filtered = df.loc[has_word].reset_index(drop=True)"
   ]
  },
  {
   "cell_type": "code",
   "execution_count": 202,
   "metadata": {},
   "outputs": [
    {
     "data": {
      "text/html": [
       "<div>\n",
       "<style scoped>\n",
       "    .dataframe tbody tr th:only-of-type {\n",
       "        vertical-align: middle;\n",
       "    }\n",
       "\n",
       "    .dataframe tbody tr th {\n",
       "        vertical-align: top;\n",
       "    }\n",
       "\n",
       "    .dataframe thead th {\n",
       "        text-align: right;\n",
       "    }\n",
       "</style>\n",
       "<table border=\"1\" class=\"dataframe\">\n",
       "  <thead>\n",
       "    <tr style=\"text-align: right;\">\n",
       "      <th></th>\n",
       "      <th>osm_id</th>\n",
       "      <th>region</th>\n",
       "      <th>type</th>\n",
       "      <th>name</th>\n",
       "      <th>street</th>\n",
       "      <th>housenumber</th>\n",
       "      <th>postcode</th>\n",
       "      <th>city</th>\n",
       "      <th>lat</th>\n",
       "      <th>lon</th>\n",
       "      <th>phone</th>\n",
       "      <th>email</th>\n",
       "      <th>website</th>\n",
       "      <th>amenity</th>\n",
       "    </tr>\n",
       "  </thead>\n",
       "  <tbody>\n",
       "    <tr>\n",
       "      <th>1722</th>\n",
       "      <td>754925178</td>\n",
       "      <td>Nordrhein-Westfalen</td>\n",
       "      <td>way</td>\n",
       "      <td>Kindertageseinrichtung \"Traumland\"</td>\n",
       "      <td>Josefstraße</td>\n",
       "      <td>35</td>\n",
       "      <td>52222.0</td>\n",
       "      <td>Stolberg</td>\n",
       "      <td>50.780629</td>\n",
       "      <td>6.246176</td>\n",
       "      <td>NaN</td>\n",
       "      <td>NaN</td>\n",
       "      <td>https://www.awo-kisa.de/kita-traumland/</td>\n",
       "      <td>kindergarten</td>\n",
       "    </tr>\n",
       "    <tr>\n",
       "      <th>1010</th>\n",
       "      <td>8950746874</td>\n",
       "      <td>Niedersachsen</td>\n",
       "      <td>node</td>\n",
       "      <td>Begegnungszentrum Mittelpunkt Hüttenstraße</td>\n",
       "      <td>Gubener Straße</td>\n",
       "      <td>1</td>\n",
       "      <td>31655.0</td>\n",
       "      <td>Stadthagen</td>\n",
       "      <td>52.327717</td>\n",
       "      <td>9.180325</td>\n",
       "      <td>+49 5721 98 09 573</td>\n",
       "      <td>NaN</td>\n",
       "      <td>https://awo-kv-schaumburg.de/angebote/begegnun...</td>\n",
       "      <td>NaN</td>\n",
       "    </tr>\n",
       "    <tr>\n",
       "      <th>192</th>\n",
       "      <td>2567941217</td>\n",
       "      <td>Bayern</td>\n",
       "      <td>node</td>\n",
       "      <td>NaN</td>\n",
       "      <td>NaN</td>\n",
       "      <td>NaN</td>\n",
       "      <td>NaN</td>\n",
       "      <td>NaN</td>\n",
       "      <td>49.410006</td>\n",
       "      <td>11.047433</td>\n",
       "      <td>NaN</td>\n",
       "      <td>NaN</td>\n",
       "      <td>NaN</td>\n",
       "      <td>recycling</td>\n",
       "    </tr>\n",
       "    <tr>\n",
       "      <th>778</th>\n",
       "      <td>1026972483</td>\n",
       "      <td>Hessen</td>\n",
       "      <td>way</td>\n",
       "      <td>Altenzentrum Wabern</td>\n",
       "      <td>Kurfürstenstraße</td>\n",
       "      <td>12</td>\n",
       "      <td>34590.0</td>\n",
       "      <td>Wabern</td>\n",
       "      <td>51.103743</td>\n",
       "      <td>9.345243</td>\n",
       "      <td>NaN</td>\n",
       "      <td>NaN</td>\n",
       "      <td>NaN</td>\n",
       "      <td>social_facility</td>\n",
       "    </tr>\n",
       "    <tr>\n",
       "      <th>294</th>\n",
       "      <td>35004514</td>\n",
       "      <td>Bayern</td>\n",
       "      <td>way</td>\n",
       "      <td>Kindertagesstätte an der Hohenbrunner Straße</td>\n",
       "      <td>Hohenbrunner Straße</td>\n",
       "      <td>34</td>\n",
       "      <td>85579.0</td>\n",
       "      <td>Neubiberg</td>\n",
       "      <td>48.073576</td>\n",
       "      <td>11.670691</td>\n",
       "      <td>NaN</td>\n",
       "      <td>NaN</td>\n",
       "      <td>NaN</td>\n",
       "      <td>kindergarten</td>\n",
       "    </tr>\n",
       "    <tr>\n",
       "      <th>1032</th>\n",
       "      <td>12409617318</td>\n",
       "      <td>Niedersachsen</td>\n",
       "      <td>node</td>\n",
       "      <td>NaN</td>\n",
       "      <td>Bahnhofstraße</td>\n",
       "      <td>NaN</td>\n",
       "      <td>37574.0</td>\n",
       "      <td>Einbeck</td>\n",
       "      <td>51.797584</td>\n",
       "      <td>9.922742</td>\n",
       "      <td>NaN</td>\n",
       "      <td>NaN</td>\n",
       "      <td>NaN</td>\n",
       "      <td>bicycle_parking</td>\n",
       "    </tr>\n",
       "    <tr>\n",
       "      <th>607</th>\n",
       "      <td>150075968</td>\n",
       "      <td>Brandenburg</td>\n",
       "      <td>way</td>\n",
       "      <td>Wohnstätte für Senioren</td>\n",
       "      <td>Clara-Zetkin-Straße</td>\n",
       "      <td>14</td>\n",
       "      <td>3046.0</td>\n",
       "      <td>Cottbus</td>\n",
       "      <td>51.758934</td>\n",
       "      <td>14.309663</td>\n",
       "      <td>NaN</td>\n",
       "      <td>NaN</td>\n",
       "      <td>NaN</td>\n",
       "      <td>social_facility</td>\n",
       "    </tr>\n",
       "    <tr>\n",
       "      <th>743</th>\n",
       "      <td>151868648</td>\n",
       "      <td>Hessen</td>\n",
       "      <td>way</td>\n",
       "      <td>Käthe-Richter-Haus</td>\n",
       "      <td>Eberhard-Wildermuth-Straße</td>\n",
       "      <td>15</td>\n",
       "      <td>34121.0</td>\n",
       "      <td>Kassel</td>\n",
       "      <td>51.303568</td>\n",
       "      <td>9.480854</td>\n",
       "      <td>NaN</td>\n",
       "      <td>NaN</td>\n",
       "      <td>NaN</td>\n",
       "      <td>social_facility</td>\n",
       "    </tr>\n",
       "    <tr>\n",
       "      <th>1780</th>\n",
       "      <td>958215322</td>\n",
       "      <td>Nordrhein-Westfalen</td>\n",
       "      <td>way</td>\n",
       "      <td>NaN</td>\n",
       "      <td>NaN</td>\n",
       "      <td>NaN</td>\n",
       "      <td>NaN</td>\n",
       "      <td>NaN</td>\n",
       "      <td>50.926318</td>\n",
       "      <td>8.441696</td>\n",
       "      <td>NaN</td>\n",
       "      <td>NaN</td>\n",
       "      <td>NaN</td>\n",
       "      <td>parking</td>\n",
       "    </tr>\n",
       "    <tr>\n",
       "      <th>2353</th>\n",
       "      <td>159511738</td>\n",
       "      <td>Thüringen</td>\n",
       "      <td>way</td>\n",
       "      <td>NaN</td>\n",
       "      <td>Karl-Marx-Straße</td>\n",
       "      <td>28</td>\n",
       "      <td>4617.0</td>\n",
       "      <td>Rositz</td>\n",
       "      <td>51.016030</td>\n",
       "      <td>12.372561</td>\n",
       "      <td>NaN</td>\n",
       "      <td>NaN</td>\n",
       "      <td>NaN</td>\n",
       "      <td>nursing_home</td>\n",
       "    </tr>\n",
       "  </tbody>\n",
       "</table>\n",
       "</div>"
      ],
      "text/plain": [
       "           osm_id               region  type  \\\n",
       "1722    754925178  Nordrhein-Westfalen   way   \n",
       "1010   8950746874        Niedersachsen  node   \n",
       "192    2567941217               Bayern  node   \n",
       "778    1026972483               Hessen   way   \n",
       "294      35004514               Bayern   way   \n",
       "1032  12409617318        Niedersachsen  node   \n",
       "607     150075968          Brandenburg   way   \n",
       "743     151868648               Hessen   way   \n",
       "1780    958215322  Nordrhein-Westfalen   way   \n",
       "2353    159511738            Thüringen   way   \n",
       "\n",
       "                                              name  \\\n",
       "1722            Kindertageseinrichtung \"Traumland\"   \n",
       "1010    Begegnungszentrum Mittelpunkt Hüttenstraße   \n",
       "192                                            NaN   \n",
       "778                            Altenzentrum Wabern   \n",
       "294   Kindertagesstätte an der Hohenbrunner Straße   \n",
       "1032                                           NaN   \n",
       "607                        Wohnstätte für Senioren   \n",
       "743                             Käthe-Richter-Haus   \n",
       "1780                                           NaN   \n",
       "2353                                           NaN   \n",
       "\n",
       "                          street housenumber  postcode        city        lat  \\\n",
       "1722                 Josefstraße          35   52222.0    Stolberg  50.780629   \n",
       "1010              Gubener Straße           1   31655.0  Stadthagen  52.327717   \n",
       "192                          NaN         NaN       NaN         NaN  49.410006   \n",
       "778             Kurfürstenstraße          12   34590.0      Wabern  51.103743   \n",
       "294          Hohenbrunner Straße          34   85579.0   Neubiberg  48.073576   \n",
       "1032               Bahnhofstraße         NaN   37574.0     Einbeck  51.797584   \n",
       "607          Clara-Zetkin-Straße          14    3046.0     Cottbus  51.758934   \n",
       "743   Eberhard-Wildermuth-Straße          15   34121.0      Kassel  51.303568   \n",
       "1780                         NaN         NaN       NaN         NaN  50.926318   \n",
       "2353            Karl-Marx-Straße          28    4617.0      Rositz  51.016030   \n",
       "\n",
       "            lon               phone email  \\\n",
       "1722   6.246176                 NaN   NaN   \n",
       "1010   9.180325  +49 5721 98 09 573   NaN   \n",
       "192   11.047433                 NaN   NaN   \n",
       "778    9.345243                 NaN   NaN   \n",
       "294   11.670691                 NaN   NaN   \n",
       "1032   9.922742                 NaN   NaN   \n",
       "607   14.309663                 NaN   NaN   \n",
       "743    9.480854                 NaN   NaN   \n",
       "1780   8.441696                 NaN   NaN   \n",
       "2353  12.372561                 NaN   NaN   \n",
       "\n",
       "                                                website          amenity  \n",
       "1722            https://www.awo-kisa.de/kita-traumland/     kindergarten  \n",
       "1010  https://awo-kv-schaumburg.de/angebote/begegnun...              NaN  \n",
       "192                                                 NaN        recycling  \n",
       "778                                                 NaN  social_facility  \n",
       "294                                                 NaN     kindergarten  \n",
       "1032                                                NaN  bicycle_parking  \n",
       "607                                                 NaN  social_facility  \n",
       "743                                                 NaN  social_facility  \n",
       "1780                                                NaN          parking  \n",
       "2353                                                NaN     nursing_home  "
      ]
     },
     "execution_count": 202,
     "metadata": {},
     "output_type": "execute_result"
    }
   ],
   "source": [
    "df_wrong_findings = df.loc[~has_word].reset_index(drop=True)\n",
    "df_wrong_findings.sample(10)\n"
   ]
  },
  {
   "cell_type": "code",
   "execution_count": 201,
   "metadata": {},
   "outputs": [
    {
     "data": {
      "text/plain": [
       "(2138, 14)"
      ]
     },
     "execution_count": 201,
     "metadata": {},
     "output_type": "execute_result"
    }
   ],
   "source": [
    "df_filtered.shape"
   ]
  },
  {
   "cell_type": "code",
   "execution_count": 4,
   "metadata": {},
   "outputs": [],
   "source": [
    "from osm_script import osm_extractor_groups, fetch_osm_region"
   ]
  },
  {
   "cell_type": "code",
   "execution_count": 5,
   "metadata": {},
   "outputs": [
    {
     "name": "stdout",
     "output_type": "stream",
     "text": [
      "Error for Hamburg, Expecting value: line 1 column 1 (char 0)\n",
      "Error for Niedersachsen, Expecting value: line 1 column 1 (char 0)\n"
     ]
    }
   ],
   "source": [
    "df=osm_extractor_groups(BUNDES_GROUPS)"
   ]
  },
  {
   "cell_type": "code",
   "execution_count": 7,
   "metadata": {},
   "outputs": [
    {
     "data": {
      "text/plain": [
       "region\n",
       "Nordrhein-Westfalen       1236\n",
       "Bayern                     678\n",
       "Thüringen                  300\n",
       "Baden-Württemberg          299\n",
       "Sachsen                    280\n",
       "Hessen                     237\n",
       "Schleswig-Holstein         190\n",
       "Brandenburg                163\n",
       "Mecklenburg-Vorpommern     156\n",
       "Sachsen-Anhalt             142\n",
       "Saarland                   121\n",
       "Rheinland-Pfalz             94\n",
       "Berlin                      84\n",
       "Bremen                      69\n",
       "Name: count, dtype: int64"
      ]
     },
     "execution_count": 7,
     "metadata": {},
     "output_type": "execute_result"
    }
   ],
   "source": [
    "df.region.value_counts()"
   ]
  },
  {
   "cell_type": "code",
   "execution_count": 8,
   "metadata": {},
   "outputs": [],
   "source": [
    "ham = fetch_osm_region(\"Hamburg\")"
   ]
  },
  {
   "cell_type": "code",
   "execution_count": 9,
   "metadata": {},
   "outputs": [
    {
     "data": {
      "text/plain": [
       "40"
      ]
     },
     "execution_count": 9,
     "metadata": {},
     "output_type": "execute_result"
    }
   ],
   "source": [
    "len(ham)"
   ]
  },
  {
   "cell_type": "code",
   "execution_count": 10,
   "metadata": {},
   "outputs": [],
   "source": [
    "nieder = fetch_osm_region(\"Niedersachsen\")"
   ]
  },
  {
   "cell_type": "code",
   "execution_count": 11,
   "metadata": {},
   "outputs": [
    {
     "data": {
      "text/plain": [
       "510"
      ]
     },
     "execution_count": 11,
     "metadata": {},
     "output_type": "execute_result"
    }
   ],
   "source": [
    "len(nieder)"
   ]
  },
  {
   "cell_type": "code",
   "execution_count": 141,
   "metadata": {},
   "outputs": [],
   "source": [
    "big_filtered.to_csv(\"total_results.csv\")"
   ]
  },
  {
   "cell_type": "markdown",
   "metadata": {},
   "source": [
    "for wrong findings, there was one false negative, AWOlino Pentzberg. As next step I could try to search for AWO in county regions ? Bezirksverband or give Bezirksverband name and then ortsvereine? But first crosscheck which if urls in url sheet are same as urls in osm-sheet"
   ]
  },
  {
   "cell_type": "code",
   "execution_count": 145,
   "metadata": {},
   "outputs": [
    {
     "data": {
      "text/html": [
       "<div>\n",
       "<style scoped>\n",
       "    .dataframe tbody tr th:only-of-type {\n",
       "        vertical-align: middle;\n",
       "    }\n",
       "\n",
       "    .dataframe tbody tr th {\n",
       "        vertical-align: top;\n",
       "    }\n",
       "\n",
       "    .dataframe thead th {\n",
       "        text-align: right;\n",
       "    }\n",
       "</style>\n",
       "<table border=\"1\" class=\"dataframe\">\n",
       "  <thead>\n",
       "    <tr style=\"text-align: right;\">\n",
       "      <th></th>\n",
       "      <th>id</th>\n",
       "      <th>domain</th>\n",
       "      <th>name</th>\n",
       "      <th>strasse</th>\n",
       "      <th>hausnummer</th>\n",
       "      <th>plz</th>\n",
       "      <th>ort</th>\n",
       "      <th>email</th>\n",
       "    </tr>\n",
       "  </thead>\n",
       "  <tbody>\n",
       "    <tr>\n",
       "      <th>903</th>\n",
       "      <td>946</td>\n",
       "      <td>bildungswerk-rheinland.de</td>\n",
       "      <td>AWO Dienstleistungs- und Service GmbH</td>\n",
       "      <td>Dreikaiserweg</td>\n",
       "      <td>4</td>\n",
       "      <td>56068.0</td>\n",
       "      <td>Koblenz</td>\n",
       "      <td>bildungswerk@awo-rheinland.de</td>\n",
       "    </tr>\n",
       "    <tr>\n",
       "      <th>56</th>\n",
       "      <td>99</td>\n",
       "      <td>awo-kita-neuburg.de</td>\n",
       "      <td>Arbeiterwohlfahrt Bezirksverband Schwaben e.V.</td>\n",
       "      <td>Sonnenstraße</td>\n",
       "      <td>10</td>\n",
       "      <td>86391.0</td>\n",
       "      <td>Stadtbergen</td>\n",
       "      <td>NaN</td>\n",
       "    </tr>\n",
       "    <tr>\n",
       "      <th>252</th>\n",
       "      <td>295</td>\n",
       "      <td>awo-seniorenzentren.awo-ww.de</td>\n",
       "      <td>Arbeiterwohlfahrt Bezirksverband Westliches We...</td>\n",
       "      <td>Kronenstraße</td>\n",
       "      <td>63 - 69</td>\n",
       "      <td>44139.0</td>\n",
       "      <td>Dortmund</td>\n",
       "      <td>NaN</td>\n",
       "    </tr>\n",
       "    <tr>\n",
       "      <th>15</th>\n",
       "      <td>58</td>\n",
       "      <td>awo-pflegedienst.de</td>\n",
       "      <td>AWO Jugend- und Sozialdienste gGmbH</td>\n",
       "      <td>Wilhelmstraße</td>\n",
       "      <td>7</td>\n",
       "      <td>30171.0</td>\n",
       "      <td>Hannover</td>\n",
       "      <td>info@awo-pflegedienst.de</td>\n",
       "    </tr>\n",
       "    <tr>\n",
       "      <th>1340</th>\n",
       "      <td>1383</td>\n",
       "      <td>awo-rhk.de</td>\n",
       "      <td>Arbeiterwohlfahrt Kreisverband Rhein-Hunsrück ...</td>\n",
       "      <td>Winterbachstr.</td>\n",
       "      <td>4</td>\n",
       "      <td>55487.0</td>\n",
       "      <td>Sohren</td>\n",
       "      <td>info@awo-rhk.de</td>\n",
       "    </tr>\n",
       "  </tbody>\n",
       "</table>\n",
       "</div>"
      ],
      "text/plain": [
       "        id                         domain  \\\n",
       "903    946      bildungswerk-rheinland.de   \n",
       "56      99            awo-kita-neuburg.de   \n",
       "252    295  awo-seniorenzentren.awo-ww.de   \n",
       "15      58            awo-pflegedienst.de   \n",
       "1340  1383                     awo-rhk.de   \n",
       "\n",
       "                                                   name         strasse  \\\n",
       "903               AWO Dienstleistungs- und Service GmbH   Dreikaiserweg   \n",
       "56       Arbeiterwohlfahrt Bezirksverband Schwaben e.V.    Sonnenstraße   \n",
       "252   Arbeiterwohlfahrt Bezirksverband Westliches We...    Kronenstraße   \n",
       "15                  AWO Jugend- und Sozialdienste gGmbH   Wilhelmstraße   \n",
       "1340  Arbeiterwohlfahrt Kreisverband Rhein-Hunsrück ...  Winterbachstr.   \n",
       "\n",
       "     hausnummer      plz          ort                          email  \n",
       "903           4  56068.0      Koblenz  bildungswerk@awo-rheinland.de  \n",
       "56           10  86391.0  Stadtbergen                            NaN  \n",
       "252     63 - 69  44139.0     Dortmund                            NaN  \n",
       "15            7  30171.0     Hannover       info@awo-pflegedienst.de  \n",
       "1340          4  55487.0       Sohren                info@awo-rhk.de  "
      ]
     },
     "execution_count": 145,
     "metadata": {},
     "output_type": "execute_result"
    }
   ],
   "source": [
    "df = pd.read_csv(\"total_results.csv\")\n",
    "domains=pd.read_excel(\"AWO_domains_with_impressum_data.xlsx\", sheet_name=\"impressum_extracted\")\n",
    "\n",
    "domains.sample(5)\n"
   ]
  },
  {
   "cell_type": "code",
   "execution_count": 156,
   "metadata": {},
   "outputs": [],
   "source": [
    "#website column is wrong\n",
    "df['website'] = df['website'].str.replace(r'https://', '', regex=True)"
   ]
  },
  {
   "cell_type": "code",
   "execution_count": 157,
   "metadata": {},
   "outputs": [
    {
     "data": {
      "text/html": [
       "<div>\n",
       "<style scoped>\n",
       "    .dataframe tbody tr th:only-of-type {\n",
       "        vertical-align: middle;\n",
       "    }\n",
       "\n",
       "    .dataframe tbody tr th {\n",
       "        vertical-align: top;\n",
       "    }\n",
       "\n",
       "    .dataframe thead th {\n",
       "        text-align: right;\n",
       "    }\n",
       "</style>\n",
       "<table border=\"1\" class=\"dataframe\">\n",
       "  <thead>\n",
       "    <tr style=\"text-align: right;\">\n",
       "      <th></th>\n",
       "      <th>Unnamed: 0</th>\n",
       "      <th>osm_id</th>\n",
       "      <th>type</th>\n",
       "      <th>name</th>\n",
       "      <th>street</th>\n",
       "      <th>housenumber</th>\n",
       "      <th>postcode</th>\n",
       "      <th>city</th>\n",
       "      <th>lat</th>\n",
       "      <th>lon</th>\n",
       "      <th>phone</th>\n",
       "      <th>email</th>\n",
       "      <th>website</th>\n",
       "      <th>amenity</th>\n",
       "    </tr>\n",
       "  </thead>\n",
       "  <tbody>\n",
       "    <tr>\n",
       "      <th>1703</th>\n",
       "      <td>1703</td>\n",
       "      <td>258163570</td>\n",
       "      <td>way</td>\n",
       "      <td>AWO-Seniorenheim</td>\n",
       "      <td>Friedrich-Bauer-Weg</td>\n",
       "      <td>6</td>\n",
       "      <td>86690.0</td>\n",
       "      <td>Mertingen</td>\n",
       "      <td>48.655290</td>\n",
       "      <td>10.800146</td>\n",
       "      <td>NaN</td>\n",
       "      <td>NaN</td>\n",
       "      <td>NaN</td>\n",
       "      <td>social_facility</td>\n",
       "    </tr>\n",
       "    <tr>\n",
       "      <th>1060</th>\n",
       "      <td>1060</td>\n",
       "      <td>166224032</td>\n",
       "      <td>way</td>\n",
       "      <td>AWO Integrative Kindertageseinrichtung \"Bollen...</td>\n",
       "      <td>Bollenberger Busch</td>\n",
       "      <td>29</td>\n",
       "      <td>42781.0</td>\n",
       "      <td>Haan</td>\n",
       "      <td>51.199320</td>\n",
       "      <td>7.022139</td>\n",
       "      <td>NaN</td>\n",
       "      <td>NaN</td>\n",
       "      <td>NaN</td>\n",
       "      <td>childcare</td>\n",
       "    </tr>\n",
       "    <tr>\n",
       "      <th>819</th>\n",
       "      <td>819</td>\n",
       "      <td>2463762745</td>\n",
       "      <td>node</td>\n",
       "      <td>AWO Altenwohnungen</td>\n",
       "      <td>Badeweg</td>\n",
       "      <td>50</td>\n",
       "      <td>32584.0</td>\n",
       "      <td>Löhne</td>\n",
       "      <td>52.218649</td>\n",
       "      <td>8.741948</td>\n",
       "      <td>NaN</td>\n",
       "      <td>NaN</td>\n",
       "      <td>NaN</td>\n",
       "      <td>NaN</td>\n",
       "    </tr>\n",
       "    <tr>\n",
       "      <th>1625</th>\n",
       "      <td>1625</td>\n",
       "      <td>48514930</td>\n",
       "      <td>way</td>\n",
       "      <td>AWO Kindergarten Pusteblume</td>\n",
       "      <td>Cerveteristraße</td>\n",
       "      <td>12</td>\n",
       "      <td>NaN</td>\n",
       "      <td>NaN</td>\n",
       "      <td>48.167952</td>\n",
       "      <td>11.225971</td>\n",
       "      <td>NaN</td>\n",
       "      <td>NaN</td>\n",
       "      <td>awo-obb.de/kinder</td>\n",
       "      <td>kindergarten</td>\n",
       "    </tr>\n",
       "    <tr>\n",
       "      <th>1222</th>\n",
       "      <td>1222</td>\n",
       "      <td>771933411</td>\n",
       "      <td>way</td>\n",
       "      <td>AWO Kinder- und Jugendzeltplatz</td>\n",
       "      <td>NaN</td>\n",
       "      <td>NaN</td>\n",
       "      <td>NaN</td>\n",
       "      <td>NaN</td>\n",
       "      <td>51.501154</td>\n",
       "      <td>6.439710</td>\n",
       "      <td>NaN</td>\n",
       "      <td>NaN</td>\n",
       "      <td>NaN</td>\n",
       "      <td>NaN</td>\n",
       "    </tr>\n",
       "  </tbody>\n",
       "</table>\n",
       "</div>"
      ],
      "text/plain": [
       "      Unnamed: 0      osm_id  type  \\\n",
       "1703        1703   258163570   way   \n",
       "1060        1060   166224032   way   \n",
       "819          819  2463762745  node   \n",
       "1625        1625    48514930   way   \n",
       "1222        1222   771933411   way   \n",
       "\n",
       "                                                   name               street  \\\n",
       "1703                                   AWO-Seniorenheim  Friedrich-Bauer-Weg   \n",
       "1060  AWO Integrative Kindertageseinrichtung \"Bollen...   Bollenberger Busch   \n",
       "819                                  AWO Altenwohnungen              Badeweg   \n",
       "1625                        AWO Kindergarten Pusteblume      Cerveteristraße   \n",
       "1222                    AWO Kinder- und Jugendzeltplatz                  NaN   \n",
       "\n",
       "     housenumber  postcode       city        lat        lon phone email  \\\n",
       "1703           6   86690.0  Mertingen  48.655290  10.800146   NaN   NaN   \n",
       "1060          29   42781.0       Haan  51.199320   7.022139   NaN   NaN   \n",
       "819           50   32584.0      Löhne  52.218649   8.741948   NaN   NaN   \n",
       "1625          12       NaN        NaN  48.167952  11.225971   NaN   NaN   \n",
       "1222         NaN       NaN        NaN  51.501154   6.439710   NaN   NaN   \n",
       "\n",
       "                website          amenity  \n",
       "1703                NaN  social_facility  \n",
       "1060                NaN        childcare  \n",
       "819                 NaN              NaN  \n",
       "1625  awo-obb.de/kinder     kindergarten  \n",
       "1222                NaN              NaN  "
      ]
     },
     "execution_count": 157,
     "metadata": {},
     "output_type": "execute_result"
    }
   ],
   "source": [
    "df.sample(5)"
   ]
  },
  {
   "cell_type": "code",
   "execution_count": 158,
   "metadata": {},
   "outputs": [],
   "source": [
    "domains1=domains.assign(InOsm=domains.domain.isin(df.website).astype(int))"
   ]
  },
  {
   "cell_type": "code",
   "execution_count": 150,
   "metadata": {},
   "outputs": [
    {
     "data": {
      "text/plain": [
       "Index(['id', 'domain', 'name', 'strasse', 'hausnummer', 'plz', 'ort', 'email',\n",
       "       'InOsm'],\n",
       "      dtype='object')"
      ]
     },
     "execution_count": 150,
     "metadata": {},
     "output_type": "execute_result"
    }
   ],
   "source": [
    "domains1.columns"
   ]
  },
  {
   "cell_type": "code",
   "execution_count": 159,
   "metadata": {},
   "outputs": [
    {
     "data": {
      "text/plain": [
       "InOsm\n",
       "0    1661\n",
       "1       5\n",
       "Name: count, dtype: int64"
      ]
     },
     "execution_count": 159,
     "metadata": {},
     "output_type": "execute_result"
    }
   ],
   "source": [
    "domains1.InOsm.value_counts()"
   ]
  },
  {
   "cell_type": "code",
   "execution_count": 160,
   "metadata": {},
   "outputs": [],
   "source": [
    "df1 = df.assign(in_domains=df.website.isin(domains1.domain).astype(int))"
   ]
  },
  {
   "cell_type": "code",
   "execution_count": 161,
   "metadata": {},
   "outputs": [
    {
     "data": {
      "text/plain": [
       "in_domains\n",
       "0    1826\n",
       "1       9\n",
       "Name: count, dtype: int64"
      ]
     },
     "execution_count": 161,
     "metadata": {},
     "output_type": "execute_result"
    }
   ],
   "source": [
    "df1.in_domains.value_counts()"
   ]
  },
  {
   "cell_type": "code",
   "execution_count": null,
   "metadata": {},
   "outputs": [],
   "source": []
  }
 ],
 "metadata": {
  "kernelspec": {
   "display_name": "immo",
   "language": "python",
   "name": "python3"
  },
  "language_info": {
   "codemirror_mode": {
    "name": "ipython",
    "version": 3
   },
   "file_extension": ".py",
   "mimetype": "text/x-python",
   "name": "python",
   "nbconvert_exporter": "python",
   "pygments_lexer": "ipython3",
   "version": "3.13.2"
  }
 },
 "nbformat": 4,
 "nbformat_minor": 2
}
