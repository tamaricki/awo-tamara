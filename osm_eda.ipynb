{
 "cells": [
  {
   "cell_type": "code",
   "execution_count": 1,
   "metadata": {},
   "outputs": [],
   "source": [
    "import requests\n",
    "import csv\n",
    "import time\n",
    "import pandas as pd\n",
    "from osm_script import osm_extractor_groups, fetch_osm_region\n",
    "from reverse_geocode import geocode_lat_lon\n",
    "from geopy.geocoders import Nominatim\n",
    "from geopy.extra.rate_limiter import RateLimiter"
   ]
  },
  {
   "cell_type": "code",
   "execution_count": 3,
   "metadata": {},
   "outputs": [],
   "source": [
    "#Several APIs available \n",
    "\n",
    "main_overpass_api = \"https://overpass-api.de/api/interpreter\"\n",
    "lz4_overpass_api='https://lz4.overpass-api.de/api/interpreter'\n",
    "osm_overpass_api='https://overpass.openstreetmap.ru/api/interpreter'\n",
    "\n",
    "BUNDES_GROUPS = [\n",
    "    [\"Baden-Württemberg\"],\n",
    "    [\"Bayern\"],\n",
    "    [\"Berlin\", \"Bremen\"],\n",
    "    [\"Brandenburg\"],\n",
    "    [\"Hamburg\"],\n",
    "    [\"Hessen\",\"Mecklenburg-Vorpommern\",\"Rheinland-Pfalz\"],\n",
    "    [\"Niedersachsen\"],\n",
    "    [\"Nordrhein-Westfalen\"],\n",
    "    [\"Saarland\",\"Sachsen\",\"Sachsen-Anhalt\", \"Schleswig-Holstein\",\"Thüringen\"]\n",
    "]"
   ]
  },
  {
   "cell_type": "code",
   "execution_count": 4,
   "metadata": {},
   "outputs": [],
   "source": [
    "df_raw=osm_extractor_groups(BUNDES_GROUPS)"
   ]
  },
  {
   "cell_type": "code",
   "execution_count": 23,
   "metadata": {},
   "outputs": [
    {
     "data": {
      "text/plain": [
       "4604"
      ]
     },
     "execution_count": 23,
     "metadata": {},
     "output_type": "execute_result"
    }
   ],
   "source": [
    "len(df_raw)"
   ]
  },
  {
   "cell_type": "code",
   "execution_count": null,
   "metadata": {},
   "outputs": [],
   "source": [
    "#it seems like empty cells contain empty string, therefore it needs to be replaced with NA values \n",
    "df_raw = df_raw.replace(r'^\\s*$', pd.NA, regex=True)"
   ]
  },
  {
   "cell_type": "code",
   "execution_count": 25,
   "metadata": {},
   "outputs": [
    {
     "data": {
      "text/html": [
       "<div>\n",
       "<style scoped>\n",
       "    .dataframe tbody tr th:only-of-type {\n",
       "        vertical-align: middle;\n",
       "    }\n",
       "\n",
       "    .dataframe tbody tr th {\n",
       "        vertical-align: top;\n",
       "    }\n",
       "\n",
       "    .dataframe thead th {\n",
       "        text-align: right;\n",
       "    }\n",
       "</style>\n",
       "<table border=\"1\" class=\"dataframe\">\n",
       "  <thead>\n",
       "    <tr style=\"text-align: right;\">\n",
       "      <th></th>\n",
       "      <th>osm_id</th>\n",
       "      <th>region</th>\n",
       "      <th>type</th>\n",
       "      <th>name</th>\n",
       "      <th>street</th>\n",
       "      <th>housenumber</th>\n",
       "      <th>postcode</th>\n",
       "      <th>city</th>\n",
       "      <th>lat</th>\n",
       "      <th>lon</th>\n",
       "      <th>phone</th>\n",
       "      <th>email</th>\n",
       "      <th>website</th>\n",
       "      <th>amenity</th>\n",
       "    </tr>\n",
       "  </thead>\n",
       "  <tbody>\n",
       "    <tr>\n",
       "      <th>3274</th>\n",
       "      <td>725425698</td>\n",
       "      <td>Nordrhein-Westfalen</td>\n",
       "      <td>way</td>\n",
       "      <td>AWO KiTa Blaues Haus</td>\n",
       "      <td>Linsellesstraße</td>\n",
       "      <td></td>\n",
       "      <td>47877</td>\n",
       "      <td>Willich</td>\n",
       "      <td>51.233811</td>\n",
       "      <td>6.531840</td>\n",
       "      <td>+49 2154 8847450</td>\n",
       "      <td>NaN</td>\n",
       "      <td>NaN</td>\n",
       "      <td>kindergarten</td>\n",
       "    </tr>\n",
       "    <tr>\n",
       "      <th>2694</th>\n",
       "      <td>11171920844</td>\n",
       "      <td>Nordrhein-Westfalen</td>\n",
       "      <td>node</td>\n",
       "      <td>zentrum plus - Außenstelle Ludenberg</td>\n",
       "      <td>Blanckertzstraße</td>\n",
       "      <td>26</td>\n",
       "      <td>40629.0</td>\n",
       "      <td>Düsseldorf</td>\n",
       "      <td>51.255742</td>\n",
       "      <td>6.864778</td>\n",
       "      <td>NaN</td>\n",
       "      <td>NaN</td>\n",
       "      <td>NaN</td>\n",
       "      <td>social_facility</td>\n",
       "    </tr>\n",
       "    <tr>\n",
       "      <th>1978</th>\n",
       "      <td>11235426039</td>\n",
       "      <td>Niedersachsen</td>\n",
       "      <td>node</td>\n",
       "      <td>Arbeiterwohlfahrt Lüneburg</td>\n",
       "      <td>St.-Stephanus-Passage</td>\n",
       "      <td>15</td>\n",
       "      <td>21337</td>\n",
       "      <td>Lüneburg</td>\n",
       "      <td>53.239748</td>\n",
       "      <td>10.435249</td>\n",
       "      <td>NaN</td>\n",
       "      <td>NaN</td>\n",
       "      <td>https://awo-lueneburg.de/</td>\n",
       "      <td>social_centre</td>\n",
       "    </tr>\n",
       "    <tr>\n",
       "      <th>16</th>\n",
       "      <td>1608718753</td>\n",
       "      <td>Baden-Württemberg</td>\n",
       "      <td>node</td>\n",
       "      <td>AWO-Haus Epfelbach</td>\n",
       "      <td>Eschelbronner Straße</td>\n",
       "      <td></td>\n",
       "      <td>74925</td>\n",
       "      <td>Epfenbach</td>\n",
       "      <td>49.336563</td>\n",
       "      <td>8.907754</td>\n",
       "      <td>NaN</td>\n",
       "      <td>NaN</td>\n",
       "      <td>https://www.awo-rhein-neckar.de/</td>\n",
       "      <td>arts_centre</td>\n",
       "    </tr>\n",
       "    <tr>\n",
       "      <th>4040</th>\n",
       "      <td>93338561</td>\n",
       "      <td>Sachsen-Anhalt</td>\n",
       "      <td>way</td>\n",
       "      <td>Kinder- und Jugendhilfeeinrichtung „Haus Achte...</td>\n",
       "      <td>Bertolt-Brecht-Straße</td>\n",
       "      <td>40b</td>\n",
       "      <td>39218.0</td>\n",
       "      <td>Schönebeck (Elbe)</td>\n",
       "      <td>52.016427</td>\n",
       "      <td>11.725454</td>\n",
       "      <td>+49 3928 69835</td>\n",
       "      <td>haus-achterbahn@awo-slk.de</td>\n",
       "      <td>https://www.awo-slk.de/seite/321206/kinder-und...</td>\n",
       "      <td>social_facility</td>\n",
       "    </tr>\n",
       "    <tr>\n",
       "      <th>4424</th>\n",
       "      <td>129216703</td>\n",
       "      <td>Thüringen</td>\n",
       "      <td>way</td>\n",
       "      <td>Servicewohnen AWO AJS gGmbH</td>\n",
       "      <td>Krämpferufer</td>\n",
       "      <td>7</td>\n",
       "      <td>99084.0</td>\n",
       "      <td>Erfurt</td>\n",
       "      <td>50.981082</td>\n",
       "      <td>11.038167</td>\n",
       "      <td>+49 361 6003815</td>\n",
       "      <td>schneider@awo-thueringen.de</td>\n",
       "      <td>NaN</td>\n",
       "      <td>nursing_home</td>\n",
       "    </tr>\n",
       "    <tr>\n",
       "      <th>236</th>\n",
       "      <td>439365332</td>\n",
       "      <td>Baden-Württemberg</td>\n",
       "      <td>way</td>\n",
       "      <td>Altenzentrum Königsbronn</td>\n",
       "      <td>Brenzstraße</td>\n",
       "      <td>17</td>\n",
       "      <td>89551.0</td>\n",
       "      <td>Königsbronn</td>\n",
       "      <td>48.736069</td>\n",
       "      <td>10.118724</td>\n",
       "      <td>+497328 92390-0</td>\n",
       "      <td>NaN</td>\n",
       "      <td>http://awo-heidenheim.de/altenzentren/altenzen...</td>\n",
       "      <td>social_facility</td>\n",
       "    </tr>\n",
       "    <tr>\n",
       "      <th>46</th>\n",
       "      <td>4853952122</td>\n",
       "      <td>Baden-Württemberg</td>\n",
       "      <td>node</td>\n",
       "      <td>AWO Kindervilla</td>\n",
       "      <td>Bahnhofstraße</td>\n",
       "      <td>19</td>\n",
       "      <td>68526.0</td>\n",
       "      <td>Ladenburg</td>\n",
       "      <td>49.472006</td>\n",
       "      <td>8.604160</td>\n",
       "      <td>+49 6203 1079229</td>\n",
       "      <td>NaN</td>\n",
       "      <td>http://www.awo-rhein-neckar.de/kinderbetreuung...</td>\n",
       "      <td>kindergarten</td>\n",
       "    </tr>\n",
       "    <tr>\n",
       "      <th>1228</th>\n",
       "      <td>237400422</td>\n",
       "      <td>Brandenburg</td>\n",
       "      <td>way</td>\n",
       "      <td>Arbeiterwohlfahrt</td>\n",
       "      <td>Hartmannsdorfer Straße</td>\n",
       "      <td>15</td>\n",
       "      <td>15907</td>\n",
       "      <td>Lübben (Spreewald)</td>\n",
       "      <td>51.948635</td>\n",
       "      <td>13.884383</td>\n",
       "      <td>NaN</td>\n",
       "      <td>NaN</td>\n",
       "      <td>NaN</td>\n",
       "      <td>social_facility</td>\n",
       "    </tr>\n",
       "    <tr>\n",
       "      <th>1494</th>\n",
       "      <td>302673393</td>\n",
       "      <td>Hessen</td>\n",
       "      <td>way</td>\n",
       "      <td>Kindergarten am Zwingel</td>\n",
       "      <td>Am Zwingel</td>\n",
       "      <td>1</td>\n",
       "      <td>35683.0</td>\n",
       "      <td>Dillenburg</td>\n",
       "      <td>50.740137</td>\n",
       "      <td>8.286755</td>\n",
       "      <td>NaN</td>\n",
       "      <td>NaN</td>\n",
       "      <td>NaN</td>\n",
       "      <td>kindergarten</td>\n",
       "    </tr>\n",
       "  </tbody>\n",
       "</table>\n",
       "</div>"
      ],
      "text/plain": [
       "           osm_id               region  type  \\\n",
       "3274    725425698  Nordrhein-Westfalen   way   \n",
       "2694  11171920844  Nordrhein-Westfalen  node   \n",
       "1978  11235426039        Niedersachsen  node   \n",
       "16     1608718753    Baden-Württemberg  node   \n",
       "4040     93338561       Sachsen-Anhalt   way   \n",
       "4424    129216703            Thüringen   way   \n",
       "236     439365332    Baden-Württemberg   way   \n",
       "46     4853952122    Baden-Württemberg  node   \n",
       "1228    237400422          Brandenburg   way   \n",
       "1494    302673393               Hessen   way   \n",
       "\n",
       "                                                   name  \\\n",
       "3274                               AWO KiTa Blaues Haus   \n",
       "2694               zentrum plus - Außenstelle Ludenberg   \n",
       "1978                         Arbeiterwohlfahrt Lüneburg   \n",
       "16                                   AWO-Haus Epfelbach   \n",
       "4040  Kinder- und Jugendhilfeeinrichtung „Haus Achte...   \n",
       "4424                        Servicewohnen AWO AJS gGmbH   \n",
       "236                            Altenzentrum Königsbronn   \n",
       "46                                      AWO Kindervilla   \n",
       "1228                                  Arbeiterwohlfahrt   \n",
       "1494                            Kindergarten am Zwingel   \n",
       "\n",
       "                      street housenumber postcode                city  \\\n",
       "3274         Linsellesstraße                47877             Willich   \n",
       "2694        Blanckertzstraße          26  40629.0          Düsseldorf   \n",
       "1978   St.-Stephanus-Passage          15    21337            Lüneburg   \n",
       "16      Eschelbronner Straße                74925           Epfenbach   \n",
       "4040   Bertolt-Brecht-Straße         40b  39218.0   Schönebeck (Elbe)   \n",
       "4424            Krämpferufer           7  99084.0              Erfurt   \n",
       "236              Brenzstraße          17  89551.0         Königsbronn   \n",
       "46             Bahnhofstraße          19  68526.0           Ladenburg   \n",
       "1228  Hartmannsdorfer Straße          15    15907  Lübben (Spreewald)   \n",
       "1494              Am Zwingel           1  35683.0          Dillenburg   \n",
       "\n",
       "            lat        lon             phone                        email  \\\n",
       "3274  51.233811   6.531840  +49 2154 8847450                          NaN   \n",
       "2694  51.255742   6.864778               NaN                          NaN   \n",
       "1978  53.239748  10.435249               NaN                          NaN   \n",
       "16    49.336563   8.907754               NaN                          NaN   \n",
       "4040  52.016427  11.725454    +49 3928 69835   haus-achterbahn@awo-slk.de   \n",
       "4424  50.981082  11.038167   +49 361 6003815  schneider@awo-thueringen.de   \n",
       "236   48.736069  10.118724   +497328 92390-0                          NaN   \n",
       "46    49.472006   8.604160  +49 6203 1079229                          NaN   \n",
       "1228  51.948635  13.884383               NaN                          NaN   \n",
       "1494  50.740137   8.286755               NaN                          NaN   \n",
       "\n",
       "                                                website          amenity  \n",
       "3274                                                NaN     kindergarten  \n",
       "2694                                                NaN  social_facility  \n",
       "1978                          https://awo-lueneburg.de/    social_centre  \n",
       "16                     https://www.awo-rhein-neckar.de/      arts_centre  \n",
       "4040  https://www.awo-slk.de/seite/321206/kinder-und...  social_facility  \n",
       "4424                                                NaN     nursing_home  \n",
       "236   http://awo-heidenheim.de/altenzentren/altenzen...  social_facility  \n",
       "46    http://www.awo-rhein-neckar.de/kinderbetreuung...     kindergarten  \n",
       "1228                                                NaN  social_facility  \n",
       "1494                                                NaN     kindergarten  "
      ]
     },
     "execution_count": 25,
     "metadata": {},
     "output_type": "execute_result"
    }
   ],
   "source": [
    "df_raw.sample(10) # raw results"
   ]
  },
  {
   "cell_type": "code",
   "execution_count": 18,
   "metadata": {},
   "outputs": [
    {
     "data": {
      "text/plain": [
       "region\n",
       "Nordrhein-Westfalen       1236\n",
       "Bayern                     679\n",
       "Niedersachsen              513\n",
       "Thüringen                  300\n",
       "Baden-Württemberg          299\n",
       "Sachsen                    281\n",
       "Hessen                     237\n",
       "Schleswig-Holstein         190\n",
       "Brandenburg                163\n",
       "Mecklenburg-Vorpommern     156\n",
       "Sachsen-Anhalt             142\n",
       "Saarland                   121\n",
       "Rheinland-Pfalz             94\n",
       "Berlin                      84\n",
       "Bremen                      69\n",
       "Hamburg                     40\n",
       "Name: count, dtype: int64"
      ]
     },
     "execution_count": 18,
     "metadata": {},
     "output_type": "execute_result"
    }
   ],
   "source": [
    "df_raw.region.value_counts()"
   ]
  },
  {
   "cell_type": "code",
   "execution_count": 24,
   "metadata": {},
   "outputs": [
    {
     "data": {
      "text/plain": [
       "osm_id            0\n",
       "region            0\n",
       "type              0\n",
       "name            413\n",
       "street           16\n",
       "housenumber      47\n",
       "postcode         18\n",
       "city              0\n",
       "lat               0\n",
       "lon               0\n",
       "phone          3138\n",
       "email          3827\n",
       "website        2846\n",
       "amenity        1308\n",
       "dtype: int64"
      ]
     },
     "execution_count": 24,
     "metadata": {},
     "output_type": "execute_result"
    }
   ],
   "source": [
    "df_raw.isnull().sum()"
   ]
  },
  {
   "cell_type": "markdown",
   "metadata": {},
   "source": [
    "Next: \n",
    "    - removing findings which are not AWO facilities \n",
    "    - comparing with current Einrichtungsdatenbank \n",
    "    - comaring with domains .xlsx \n",
    "    - ...\n"
   ]
  },
  {
   "cell_type": "code",
   "execution_count": 4,
   "metadata": {},
   "outputs": [
    {
     "data": {
      "text/plain": [
       "(4604, 14)"
      ]
     },
     "execution_count": 4,
     "metadata": {},
     "output_type": "execute_result"
    }
   ],
   "source": [
    "#if need to restart kernel, import the latest file \n",
    "df_raw = pd.read_csv(\"awo_20250926-135243_osm_raw.csv\")\n",
    "df_raw.shape"
   ]
  },
  {
   "cell_type": "code",
   "execution_count": 23,
   "metadata": {},
   "outputs": [
    {
     "name": "stdout",
     "output_type": "stream",
     "text": [
      "<class 'pandas.core.frame.DataFrame'>\n",
      "RangeIndex: 4604 entries, 0 to 4603\n",
      "Data columns (total 14 columns):\n",
      " #   Column       Non-Null Count  Dtype  \n",
      "---  ------       --------------  -----  \n",
      " 0   osm_id       4604 non-null   int64  \n",
      " 1   region       4604 non-null   object \n",
      " 2   type         4604 non-null   object \n",
      " 3   name         4191 non-null   object \n",
      " 4   street       4588 non-null   object \n",
      " 5   housenumber  4557 non-null   object \n",
      " 6   postcode     4586 non-null   object \n",
      " 7   city         4604 non-null   object \n",
      " 8   lat          4604 non-null   float64\n",
      " 9   lon          4604 non-null   float64\n",
      " 10  phone        1466 non-null   object \n",
      " 11  email        777 non-null    object \n",
      " 12  website      1758 non-null   object \n",
      " 13  amenity      3296 non-null   object \n",
      "dtypes: float64(2), int64(1), object(11)\n",
      "memory usage: 503.7+ KB\n"
     ]
    }
   ],
   "source": [
    "df_raw.info()"
   ]
  },
  {
   "cell_type": "code",
   "execution_count": null,
   "metadata": {},
   "outputs": [
    {
     "ename": "NameError",
     "evalue": "name 'dict_emtpy_address' is not defined",
     "output_type": "error",
     "traceback": [
      "\u001b[31m---------------------------------------------------------------------------\u001b[39m",
      "\u001b[31mNameError\u001b[39m                                 Traceback (most recent call last)",
      "\u001b[36mCell\u001b[39m\u001b[36m \u001b[39m\u001b[32mIn[10]\u001b[39m\u001b[32m, line 3\u001b[39m\n\u001b[32m      1\u001b[39m mask_empty_address = df_raw[\u001b[33m'\u001b[39m\u001b[33mcity\u001b[39m\u001b[33m'\u001b[39m].isna()\n\u001b[32m      2\u001b[39m dict_empty_address = df_raw.loc[mask_empty_address].apply(\u001b[38;5;28;01mlambda\u001b[39;00m row:geocode_lat_lon(row[\u001b[33m'\u001b[39m\u001b[33mlat\u001b[39m\u001b[33m'\u001b[39m], row[\u001b[33m'\u001b[39m\u001b[33mlon\u001b[39m\u001b[33m'\u001b[39m]), axis=\u001b[32m1\u001b[39m)\n\u001b[32m----> \u001b[39m\u001b[32m3\u001b[39m \u001b[43mdict_emtpy_address\u001b[49m\n",
      "\u001b[31mNameError\u001b[39m: name 'dict_emtpy_address' is not defined"
     ]
    }
   ],
   "source": [
    "mask_empty_address = df_raw['city'].isna()\n",
    "dict_empty_address = df_raw.loc[mask_empty_address].apply(lambda row:geocode_lat_lon(row['lat'], row['lon']), axis=1)\n"
   ]
  },
  {
   "cell_type": "code",
   "execution_count": 17,
   "metadata": {},
   "outputs": [
    {
     "data": {
      "text/plain": [
       "{'postcode': '32120',\n",
       " 'city': 'Hiddenhausen',\n",
       " 'street': 'Unter der Weide',\n",
       " 'housenumber': '14'}"
      ]
     },
     "execution_count": 17,
     "metadata": {},
     "output_type": "execute_result"
    }
   ],
   "source": [
    "lat=df_raw.loc[2446, 'lat']\n",
    "lon = df_raw.loc[2446, 'lon']\n",
    "geocode_lat_lon(lat, lon)\n"
   ]
  },
  {
   "cell_type": "code",
   "execution_count": 22,
   "metadata": {},
   "outputs": [
    {
     "name": "stderr",
     "output_type": "stream",
     "text": [
      "/tmp/ipykernel_76482/3849740406.py:2: FutureWarning: Setting an item of incompatible dtype is deprecated and will raise an error in a future version of pandas. Value '['76275' '79331' '73525' ... '37327' '99427' '36448']' has dtype incompatible with float64, please explicitly cast to a compatible dtype first.\n",
      "  df_raw.loc[mask_empty_address, add_addresses.columns] = add_addresses\n"
     ]
    }
   ],
   "source": [
    "add_addresses = pd.DataFrame(list(dict_empty_address), index=dict_empty_address.index)\n",
    "df_raw.loc[mask_empty_address, add_addresses.columns] = add_addresses"
   ]
  },
  {
   "cell_type": "code",
   "execution_count": null,
   "metadata": {},
   "outputs": [],
   "source": [
    "pattern_upper = r\"\\bAWO\\b\" # remove false positives WIP\n",
    "has_word = df['name'].str.contains(pattern_word, case=False, na=False)\n",
    "#has_any = big['name'].str.contains(\"awo\", case=False, na=False)\n",
    "mask = has_word|(~has_any)\n",
    "df_filtered = df.loc[has_word].reset_index(drop=True)"
   ]
  },
  {
   "cell_type": "code",
   "execution_count": 22,
   "metadata": {},
   "outputs": [],
   "source": [
    "name_datetime = time.strftime(\"%Y%m%d-%H%M%S\")\n",
    "df_raw.to_csv(f\"awo_{name_datetime}_osm_raw.csv\", index=False, encoding='utf-8')"
   ]
  },
  {
   "cell_type": "code",
   "execution_count": null,
   "metadata": {},
   "outputs": [],
   "source": [
    "#domains1=domains.assign(InOsm=domains.domain.isin(df.website).astype(int))"
   ]
  },
  {
   "cell_type": "code",
   "execution_count": null,
   "metadata": {},
   "outputs": [],
   "source": []
  }
 ],
 "metadata": {
  "kernelspec": {
   "display_name": "immo",
   "language": "python",
   "name": "python3"
  },
  "language_info": {
   "codemirror_mode": {
    "name": "ipython",
    "version": 3
   },
   "file_extension": ".py",
   "mimetype": "text/x-python",
   "name": "python",
   "nbconvert_exporter": "python",
   "pygments_lexer": "ipython3",
   "version": "3.13.2"
  }
 },
 "nbformat": 4,
 "nbformat_minor": 2
}
