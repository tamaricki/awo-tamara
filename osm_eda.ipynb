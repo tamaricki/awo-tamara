{
 "cells": [
  {
   "cell_type": "code",
   "execution_count": 11,
   "metadata": {},
   "outputs": [],
   "source": [
    "import requests\n",
    "import csv\n",
    "import time\n",
    "import pandas as pd\n",
    "from osm_script import osm_extractor_groups, fetch_osm_region"
   ]
  },
  {
   "cell_type": "code",
   "execution_count": 13,
   "metadata": {},
   "outputs": [],
   "source": [
    "#Several APIs available \n",
    "\n",
    "main_overpass_api = \"https://overpass-api.de/api/interpreter\"\n",
    "lz4_overpass_api='https://lz4.overpass-api.de/api/interpreter'\n",
    "osm_overpass_api='https://overpass.openstreetmap.ru/api/interpreter'\n",
    "\n",
    "BUNDES_GROUPS = [\n",
    "    [\"Baden-Württemberg\"],\n",
    "    [\"Bayern\"],\n",
    "    [\"Berlin\", \"Bremen\"],\n",
    "    [\"Brandenburg\"],\n",
    "    [\"Hamburg\"],\n",
    "    [\"Hessen\",\"Mecklenburg-Vorpommern\",\"Rheinland-Pfalz\"],\n",
    "    [\"Niedersachsen\"],\n",
    "    [\"Nordrhein-Westfalen\"],\n",
    "    [\"Saarland\",\"Sachsen\",\"Sachsen-Anhalt\", \"Schleswig-Holstein\",\"Thüringen\"]\n",
    "]"
   ]
  },
  {
   "cell_type": "code",
   "execution_count": 14,
   "metadata": {},
   "outputs": [],
   "source": [
    "df=osm_extractor_groups(BUNDES_GROUPS)"
   ]
  },
  {
   "cell_type": "code",
   "execution_count": 15,
   "metadata": {},
   "outputs": [
    {
     "data": {
      "text/plain": [
       "4604"
      ]
     },
     "execution_count": 15,
     "metadata": {},
     "output_type": "execute_result"
    }
   ],
   "source": [
    "len(df)"
   ]
  },
  {
   "cell_type": "code",
   "execution_count": null,
   "metadata": {},
   "outputs": [
    {
     "data": {
      "text/html": [
       "<div>\n",
       "<style scoped>\n",
       "    .dataframe tbody tr th:only-of-type {\n",
       "        vertical-align: middle;\n",
       "    }\n",
       "\n",
       "    .dataframe tbody tr th {\n",
       "        vertical-align: top;\n",
       "    }\n",
       "\n",
       "    .dataframe thead th {\n",
       "        text-align: right;\n",
       "    }\n",
       "</style>\n",
       "<table border=\"1\" class=\"dataframe\">\n",
       "  <thead>\n",
       "    <tr style=\"text-align: right;\">\n",
       "      <th></th>\n",
       "      <th>osm_id</th>\n",
       "      <th>region</th>\n",
       "      <th>type</th>\n",
       "      <th>name</th>\n",
       "      <th>street</th>\n",
       "      <th>housenumber</th>\n",
       "      <th>postcode</th>\n",
       "      <th>city</th>\n",
       "      <th>lat</th>\n",
       "      <th>lon</th>\n",
       "      <th>phone</th>\n",
       "      <th>email</th>\n",
       "      <th>website</th>\n",
       "      <th>amenity</th>\n",
       "    </tr>\n",
       "  </thead>\n",
       "  <tbody>\n",
       "    <tr>\n",
       "      <th>2431</th>\n",
       "      <td>2387712336</td>\n",
       "      <td>Nordrhein-Westfalen</td>\n",
       "      <td>node</td>\n",
       "      <td>AWO</td>\n",
       "      <td></td>\n",
       "      <td></td>\n",
       "      <td></td>\n",
       "      <td></td>\n",
       "      <td>51.387037</td>\n",
       "      <td>7.391569</td>\n",
       "      <td></td>\n",
       "      <td></td>\n",
       "      <td></td>\n",
       "      <td></td>\n",
       "    </tr>\n",
       "    <tr>\n",
       "      <th>11</th>\n",
       "      <td>734969484</td>\n",
       "      <td>Baden-Württemberg</td>\n",
       "      <td>node</td>\n",
       "      <td>AWO Freizeitstätte</td>\n",
       "      <td></td>\n",
       "      <td></td>\n",
       "      <td></td>\n",
       "      <td></td>\n",
       "      <td>48.899195</td>\n",
       "      <td>8.460703</td>\n",
       "      <td></td>\n",
       "      <td></td>\n",
       "      <td></td>\n",
       "      <td></td>\n",
       "    </tr>\n",
       "    <tr>\n",
       "      <th>1325</th>\n",
       "      <td>561361080</td>\n",
       "      <td>Hamburg</td>\n",
       "      <td>way</td>\n",
       "      <td>Kita Von-Halem-Straße</td>\n",
       "      <td></td>\n",
       "      <td></td>\n",
       "      <td></td>\n",
       "      <td></td>\n",
       "      <td>53.484908</td>\n",
       "      <td>10.166035</td>\n",
       "      <td>+49 40 73580217</td>\n",
       "      <td></td>\n",
       "      <td>https://www.kita-von-halem-strasse.de/</td>\n",
       "      <td>kindergarten</td>\n",
       "    </tr>\n",
       "    <tr>\n",
       "      <th>1748</th>\n",
       "      <td>8025508785</td>\n",
       "      <td>Rheinland-Pfalz</td>\n",
       "      <td>node</td>\n",
       "      <td>hawo - Lösungen für Profis</td>\n",
       "      <td></td>\n",
       "      <td></td>\n",
       "      <td></td>\n",
       "      <td></td>\n",
       "      <td>49.976983</td>\n",
       "      <td>8.290032</td>\n",
       "      <td>+49 6131 9729304</td>\n",
       "      <td></td>\n",
       "      <td>https://www.hawo-farben.de</td>\n",
       "      <td></td>\n",
       "    </tr>\n",
       "    <tr>\n",
       "      <th>2596</th>\n",
       "      <td>7287755775</td>\n",
       "      <td>Nordrhein-Westfalen</td>\n",
       "      <td>node</td>\n",
       "      <td>AWO Kindertagesstätte Jungbornstraße und Heilp...</td>\n",
       "      <td>Jungbornstraße</td>\n",
       "      <td>50</td>\n",
       "      <td>47445</td>\n",
       "      <td>Moers</td>\n",
       "      <td>51.489198</td>\n",
       "      <td>6.606284</td>\n",
       "      <td>+49 28 41 7 20 10</td>\n",
       "      <td>kita.jungbornstr@awo-kv-wesel.de</td>\n",
       "      <td>https://www.awo-kv-wesel.de/kinder-jugend/kind...</td>\n",
       "      <td>childcare</td>\n",
       "    </tr>\n",
       "    <tr>\n",
       "      <th>1756</th>\n",
       "      <td>11139886076</td>\n",
       "      <td>Rheinland-Pfalz</td>\n",
       "      <td>node</td>\n",
       "      <td></td>\n",
       "      <td></td>\n",
       "      <td></td>\n",
       "      <td></td>\n",
       "      <td></td>\n",
       "      <td>50.545358</td>\n",
       "      <td>7.108794</td>\n",
       "      <td></td>\n",
       "      <td></td>\n",
       "      <td></td>\n",
       "      <td>recycling</td>\n",
       "    </tr>\n",
       "  </tbody>\n",
       "</table>\n",
       "</div>"
      ],
      "text/plain": [
       "           osm_id               region  type  \\\n",
       "2431   2387712336  Nordrhein-Westfalen  node   \n",
       "11      734969484    Baden-Württemberg  node   \n",
       "1325    561361080              Hamburg   way   \n",
       "1748   8025508785      Rheinland-Pfalz  node   \n",
       "2596   7287755775  Nordrhein-Westfalen  node   \n",
       "1756  11139886076      Rheinland-Pfalz  node   \n",
       "\n",
       "                                                   name          street  \\\n",
       "2431                                                AWO                   \n",
       "11                                   AWO Freizeitstätte                   \n",
       "1325                              Kita Von-Halem-Straße                   \n",
       "1748                         hawo - Lösungen für Profis                   \n",
       "2596  AWO Kindertagesstätte Jungbornstraße und Heilp...  Jungbornstraße   \n",
       "1756                                                                      \n",
       "\n",
       "     housenumber postcode   city        lat        lon              phone  \\\n",
       "2431                              51.387037   7.391569                      \n",
       "11                                48.899195   8.460703                      \n",
       "1325                              53.484908  10.166035    +49 40 73580217   \n",
       "1748                              49.976983   8.290032   +49 6131 9729304   \n",
       "2596          50    47445  Moers  51.489198   6.606284  +49 28 41 7 20 10   \n",
       "1756                              50.545358   7.108794                      \n",
       "\n",
       "                                 email  \\\n",
       "2431                                     \n",
       "11                                       \n",
       "1325                                     \n",
       "1748                                     \n",
       "2596  kita.jungbornstr@awo-kv-wesel.de   \n",
       "1756                                     \n",
       "\n",
       "                                                website       amenity  \n",
       "2431                                                                   \n",
       "11                                                                     \n",
       "1325             https://www.kita-von-halem-strasse.de/  kindergarten  \n",
       "1748                         https://www.hawo-farben.de                \n",
       "2596  https://www.awo-kv-wesel.de/kinder-jugend/kind...     childcare  \n",
       "1756                                                        recycling  "
      ]
     },
     "execution_count": 16,
     "metadata": {},
     "output_type": "execute_result"
    }
   ],
   "source": [
    "df.sample(6) # raw results"
   ]
  },
  {
   "cell_type": "code",
   "execution_count": 17,
   "metadata": {},
   "outputs": [
    {
     "data": {
      "text/plain": [
       "region\n",
       "Nordrhein-Westfalen       1236\n",
       "Bayern                     679\n",
       "Niedersachsen              513\n",
       "Thüringen                  300\n",
       "Baden-Württemberg          299\n",
       "Sachsen                    281\n",
       "Hessen                     237\n",
       "Schleswig-Holstein         190\n",
       "Brandenburg                163\n",
       "Mecklenburg-Vorpommern     156\n",
       "Sachsen-Anhalt             142\n",
       "Saarland                   121\n",
       "Rheinland-Pfalz             94\n",
       "Berlin                      84\n",
       "Bremen                      69\n",
       "Hamburg                     40\n",
       "Name: count, dtype: int64"
      ]
     },
     "execution_count": 17,
     "metadata": {},
     "output_type": "execute_result"
    }
   ],
   "source": [
    "df.region.value_counts()"
   ]
  },
  {
   "cell_type": "markdown",
   "metadata": {},
   "source": [
    "Next: \n",
    "    - removing findings which are not AWO facilities \n",
    "    - comparing with current Einrichtungsdatenbank \n",
    "    - comaring with domains .xlsx \n",
    "    - ..."
   ]
  },
  {
   "cell_type": "code",
   "execution_count": null,
   "metadata": {},
   "outputs": [],
   "source": [
    "pattern_upper = r\"\\bAWO\\b\" # remove false positives WIP\n",
    "has_word = df['name'].str.contains(pattern_word, case=False, na=False)\n",
    "#has_any = big['name'].str.contains(\"awo\", case=False, na=False)\n",
    "mask = has_word|(~has_any)\n",
    "df_filtered = df.loc[has_word].reset_index(drop=True)"
   ]
  },
  {
   "cell_type": "code",
   "execution_count": null,
   "metadata": {},
   "outputs": [],
   "source": [
    "#domains1=domains.assign(InOsm=domains.domain.isin(df.website).astype(int))"
   ]
  },
  {
   "cell_type": "code",
   "execution_count": null,
   "metadata": {},
   "outputs": [],
   "source": []
  }
 ],
 "metadata": {
  "kernelspec": {
   "display_name": "immo",
   "language": "python",
   "name": "python3"
  },
  "language_info": {
   "codemirror_mode": {
    "name": "ipython",
    "version": 3
   },
   "file_extension": ".py",
   "mimetype": "text/x-python",
   "name": "python",
   "nbconvert_exporter": "python",
   "pygments_lexer": "ipython3",
   "version": "3.13.2"
  }
 },
 "nbformat": 4,
 "nbformat_minor": 2
}
